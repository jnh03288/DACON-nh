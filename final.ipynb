{
 "cells": [
  {
   "cell_type": "code",
   "execution_count": 144,
   "metadata": {
    "executionInfo": {
     "elapsed": 1126,
     "status": "ok",
     "timestamp": 1632666260817,
     "user": {
      "displayName": "잠자는사자",
      "photoUrl": "https://lh3.googleusercontent.com/a/default-user=s64",
      "userId": "18070241319002710526"
     },
     "user_tz": -540
    },
    "id": "1AQrwHbSHwk9"
   },
   "outputs": [],
   "source": [
    "import pandas as pd\n",
    "pd.set_option(\"display.max_row\", 100)\n",
    "pd.set_option(\"display.max_column\", 100)\n",
    "import numpy as np\n",
    "import os\n",
    "\n",
    "from sklearn.preprocessing import LabelEncoder\n",
    "from sklearn.metrics import mean_squared_error as mse\n",
    "from sklearn.model_selection import train_test_split, StratifiedKFold, KFold\n",
    "from lightgbm import LGBMRegressor"
   ]
  },
  {
   "cell_type": "code",
   "execution_count": 145,
   "metadata": {
    "colab": {
     "base_uri": "https://localhost:8080/"
    },
    "executionInfo": {
     "elapsed": 9644,
     "status": "ok",
     "timestamp": 1632666315148,
     "user": {
      "displayName": "잠자는사자",
      "photoUrl": "https://lh3.googleusercontent.com/a/default-user=s64",
      "userId": "18070241319002710526"
     },
     "user_tz": -540
    },
    "id": "tQwnp8WdBQGt",
    "outputId": "10551d8a-8780-4856-d132-626b9762dce4"
   },
   "outputs": [
    {
     "name": "stdout",
     "output_type": "stream",
     "text": [
      "146\n"
     ]
    }
   ],
   "source": [
    "import exchange_calendars as ecals \n",
    "import exchange_calendars as ecals\n",
    "import pandas as pd\n",
    "import pytz\n",
    "XKRX = ecals.get_calendar(\"XKRX\") # 한국 코드 \n",
    "\n",
    "print(len(XKRX.sessions_in_range(pd.Timestamp(\"2021-01-01\", tz=pytz.UTC), pd.Timestamp(\"2021-07-31\", tz=pytz.UTC)))+1)"
   ]
  },
  {
   "cell_type": "code",
   "execution_count": 146,
   "metadata": {
    "executionInfo": {
     "elapsed": 3247,
     "status": "ok",
     "timestamp": 1632666318393,
     "user": {
      "displayName": "잠자는사자",
      "photoUrl": "https://lh3.googleusercontent.com/a/default-user=s64",
      "userId": "18070241319002710526"
     },
     "user_tz": -540
    },
    "id": "H66RGUEVHwlA"
   },
   "outputs": [],
   "source": [
    "cus = pd.read_csv(\"cus_info.csv\")\n",
    "iem = pd.read_csv(\"iem_info_20210902.csv\")\n",
    "hist = pd.read_csv(\"stk_bnc_hist.csv\")\n",
    "train = pd.read_csv(\"stk_hld_train.csv\")\n",
    "test = pd.read_csv(\"stk_hld_test.csv\")\n",
    "submission = pd.read_csv(\"sample_submission.csv\")"
   ]
  },
  {
   "cell_type": "code",
   "execution_count": 147,
   "metadata": {
    "executionInfo": {
     "elapsed": 798,
     "status": "ok",
     "timestamp": 1632666324630,
     "user": {
      "displayName": "잠자는사자",
      "photoUrl": "https://lh3.googleusercontent.com/a/default-user=s64",
      "userId": "18070241319002710526"
     },
     "user_tz": -540
    },
    "id": "N0cqNntJHwlA"
   },
   "outputs": [],
   "source": [
    "train['byn_dt'] = train['byn_dt'].astype(str)\n"
   ]
  },
  {
   "cell_type": "code",
   "execution_count": 148,
   "metadata": {
    "executionInfo": {
     "elapsed": 343,
     "status": "ok",
     "timestamp": 1632666326555,
     "user": {
      "displayName": "잠자는사자",
      "photoUrl": "https://lh3.googleusercontent.com/a/default-user=s64",
      "userId": "18070241319002710526"
     },
     "user_tz": -540
    },
    "id": "QST8_hQDHwlB"
   },
   "outputs": [],
   "source": [
    "def delete3(x): #수정 중\n",
    "\n",
    "\n",
    "    ppp1 = len(XKRX.sessions_in_range(pd.Timestamp(x['byn_dt'][0:4]+\"-\"+x['byn_dt'][4:6]+\"-\"+x['byn_dt'][6:8], tz=pytz.UTC), pd.Timestamp('2019-11-01', tz=pytz.UTC)))\n",
    "\n",
    "    ppp2 = len(XKRX.sessions_in_range(pd.Timestamp(x['byn_dt'][0:4]+\"-\"+x['byn_dt'][4:6]+\"-\"+x['byn_dt'][6:8], tz=pytz.UTC), pd.Timestamp('2020-05-31', tz=pytz.UTC)))\n",
    "\n",
    "    if ppp1 == 0:\n",
    "        return '99'\n",
    "\n",
    "    if ppp1 <= x['hold_d'] and x['hold_d']<= ppp2:\n",
    "        return x['byn_dt']\n",
    "    else:\n",
    "        return '99'\n",
    "\n",
    "def delete4(x): #수정 중\n",
    "\n",
    "\n",
    "    ppp1 = len(XKRX.sessions_in_range(pd.Timestamp(x['byn_dt'][0:4]+\"-\"+x['byn_dt'][4:6]+\"-\"+x['byn_dt'][6:8], tz=pytz.UTC), pd.Timestamp('2020-06-01', tz=pytz.UTC)))\n",
    "\n",
    "    if ppp1 == 0:\n",
    "        return '99'\n",
    "\n",
    "    if ppp1 <= x['hold_d']:\n",
    "        return x['byn_dt']\n",
    "    else:\n",
    "        return '99'\n",
    "\n"
   ]
  },
  {
   "cell_type": "code",
   "execution_count": 149,
   "metadata": {
    "executionInfo": {
     "elapsed": 208673,
     "status": "ok",
     "timestamp": 1632666536789,
     "user": {
      "displayName": "잠자는사자",
      "photoUrl": "https://lh3.googleusercontent.com/a/default-user=s64",
      "userId": "18070241319002710526"
     },
     "user_tz": -540
    },
    "id": "YxQK2ofmHwlC"
   },
   "outputs": [],
   "source": [
    "train = pd.read_csv(\"stk_hld_train.csv\")\n",
    "train['byn_dt'] = train['byn_dt'].astype(str)\n",
    "train_xx = train\n",
    "train_xx['byn_dt'] = train_xx.apply(delete3, axis =1)\n",
    "\n",
    "train = pd.read_csv(\"stk_hld_train.csv\")\n",
    "train['byn_dt'] = train['byn_dt'].astype(str)\n",
    "val_xx = train\n",
    "val_xx['byn_dt'] = val_xx.apply(delete4, axis =1)\n",
    "\n",
    "tmp11 = train_xx[train_xx['byn_dt'] == '99'].index\n",
    "train_xx = train_xx.drop(tmp11)\n",
    "tmp22 = val_xx[val_xx['byn_dt'] == '99'].index\n",
    "val_xx = val_xx.drop(tmp22)"
   ]
  },
  {
   "cell_type": "code",
   "execution_count": 150,
   "metadata": {
    "executionInfo": {
     "elapsed": 305,
     "status": "ok",
     "timestamp": 1632666575179,
     "user": {
      "displayName": "잠자는사자",
      "photoUrl": "https://lh3.googleusercontent.com/a/default-user=s64",
      "userId": "18070241319002710526"
     },
     "user_tz": -540
    },
    "id": "pb9B0IljHwlD"
   },
   "outputs": [],
   "source": [
    "def plus2(x): #수정 중\n",
    "\n",
    "            \n",
    "    w = int(x['byn_dt'][2:4])\n",
    "\n",
    "\n",
    "    ppp1 = len(XKRX.sessions_in_range(pd.Timestamp(x['byn_dt'][0:4]+\"-\"+x['byn_dt'][4:6]+\"-\"+x['byn_dt'][6:8], tz=pytz.UTC), pd.Timestamp('2019-11-01', tz=pytz.UTC)))\n",
    "      \n",
    "    if ppp1 == 0:\n",
    "        print(\"발생2\")\n",
    "    return ppp1\n",
    "\n",
    "def plus3(x): #수정 중\n",
    "\n",
    "            \n",
    "    w = int(x['byn_dt'][2:4])\n",
    "\n",
    "\n",
    "    ppp1 = len(XKRX.sessions_in_range(pd.Timestamp(x['byn_dt'][0:4]+\"-\"+x['byn_dt'][4:6]+\"-\"+x['byn_dt'][6:8], tz=pytz.UTC), pd.Timestamp('2020-06-01', tz=pytz.UTC)))\n",
    "      \n",
    "    if ppp1 == 0:\n",
    "        print(\"발생1\")\n",
    "    return ppp1\n"
   ]
  },
  {
   "cell_type": "code",
   "execution_count": 151,
   "metadata": {
    "executionInfo": {
     "elapsed": 12453,
     "status": "ok",
     "timestamp": 1632666590858,
     "user": {
      "displayName": "잠자는사자",
      "photoUrl": "https://lh3.googleusercontent.com/a/default-user=s64",
      "userId": "18070241319002710526"
     },
     "user_tz": -540
    },
    "id": "ZbNjYoi_7RhD"
   },
   "outputs": [],
   "source": [
    "train_xx['hist_d'] = train_xx.apply(plus2, axis =1)\n",
    "val_xx['hist_d'] = val_xx.apply(plus3, axis =1)"
   ]
  },
  {
   "cell_type": "code",
   "execution_count": 152,
   "metadata": {
    "executionInfo": {
     "elapsed": 2,
     "status": "ok",
     "timestamp": 1632666591987,
     "user": {
      "displayName": "잠자는사자",
      "photoUrl": "https://lh3.googleusercontent.com/a/default-user=s64",
      "userId": "18070241319002710526"
     },
     "user_tz": -540
    },
    "id": "bZUwDeikHwlE"
   },
   "outputs": [],
   "source": [
    "train_xx = train_xx[((train_xx[\"hold_d\"] - train_xx[\"hist_d\"])<= 146)]\n",
    "train_xx = train_xx.reset_index(drop=True)\n",
    "train_xx['byn_dt'] = train_xx['byn_dt'].astype(int)\n",
    "\n",
    "val_xx = val_xx[((val_xx[\"hold_d\"] - val_xx[\"hist_d\"])<= 146)]\n",
    "val_xx = val_xx.reset_index(drop=True)\n",
    "val_xx['byn_dt'] = val_xx['byn_dt'].astype(int)"
   ]
  },
  {
   "cell_type": "code",
   "execution_count": 153,
   "metadata": {
    "executionInfo": {
     "elapsed": 422,
     "status": "ok",
     "timestamp": 1632666592408,
     "user": {
      "displayName": "잠자는사자",
      "photoUrl": "https://lh3.googleusercontent.com/a/default-user=s64",
      "userId": "18070241319002710526"
     },
     "user_tz": -540
    },
    "id": "mqNXwp_yHwlG"
   },
   "outputs": [],
   "source": [
    "# train과 test에 고객정보(cus_info)와 주식정보(iem_info)를 추가하겠습니다.\n",
    "\n",
    "train_data_t = pd.merge(train_xx, cus, how = \"left\", on = [\"act_id\"])\n",
    "train_data_t = pd.merge(train_data_t, iem, how = \"left\", on = [\"iem_cd\"])\n",
    "\n",
    "train_data_v = pd.merge(val_xx, cus, how = \"left\", on = [\"act_id\"])\n",
    "train_data_v = pd.merge(train_data_v, iem, how = \"left\", on = [\"iem_cd\"])\n",
    "\n",
    "test_data = pd.merge(test, cus, how = \"left\", on = [\"act_id\"])\n",
    "test_data = pd.merge(test_data, iem, how = \"left\", on = [\"iem_cd\"])"
   ]
  },
  {
   "cell_type": "code",
   "execution_count": 154,
   "metadata": {
    "executionInfo": {
     "elapsed": 2,
     "status": "ok",
     "timestamp": 1632666592408,
     "user": {
      "displayName": "잠자는사자",
      "photoUrl": "https://lh3.googleusercontent.com/a/default-user=s64",
      "userId": "18070241319002710526"
     },
     "user_tz": -540
    },
    "id": "RwDq4tg2HwlG"
   },
   "outputs": [],
   "source": [
    "# train_data에서 Y값을 추출한 후 hold_d column을 지워주겠습니다.\n",
    "\n",
    "#train_label = train_data_t[\"hold_d\"]\n",
    "#train_data_t.drop([\"hold_d\"], axis = 1, inplace = True)\n",
    "#val_label = train_data_v[\"hold_d\"]\n",
    "#train_data_v.drop([\"hold_d\"], axis = 1, inplace = True)"
   ]
  },
  {
   "cell_type": "code",
   "execution_count": 155,
   "metadata": {},
   "outputs": [],
   "source": [
    "# 추가적으로 약간의 전처리를 통해 train data와 test data를 구성하겠습니다.\n",
    "\n",
    "hist[\"stk_p\"] = hist[\"tot_aet_amt\"] / hist[\"bnc_qty\"]\n",
    "hist = hist.fillna(0)\n",
    "\n",
    "train_data_t = pd.merge(train_data_t, hist, how = \"left\", on = [\"act_id\", \"iem_cd\"])\n",
    "train_data_v = pd.merge(train_data_v, hist, how = \"left\", on = [\"act_id\", \"iem_cd\"])\n",
    "test_data = pd.merge(test_data, hist, how = \"left\", on = [\"act_id\", \"iem_cd\"])"
   ]
  },
  {
   "cell_type": "code",
   "execution_count": 156,
   "metadata": {},
   "outputs": [],
   "source": [
    "name = train_data_t[['act_id','iem_cd','hist_d']]\n",
    "www = name.groupby(['act_id','iem_cd']).count()\n",
    "\n",
    "name1 = train_data_v[['act_id','iem_cd','hist_d']]\n",
    "www1 = name1.groupby(['act_id','iem_cd']).count()\n",
    "\n",
    "name2 = test_data[['act_id','iem_cd','hist_d']]\n",
    "www2 = name2.groupby(['act_id','iem_cd']).count()\n",
    "def changenum(x):\n",
    "   \n",
    "    return www.loc[(x['act_id'], x['iem_cd'])]\n",
    "\n",
    "def changenum1(x):\n",
    "   \n",
    "    return www1.loc[(x['act_id'], x['iem_cd'])]\n",
    "\n",
    "def changenum2(x):\n",
    "   \n",
    "    return www2.loc[(x['act_id'], x['iem_cd'])]"
   ]
  },
  {
   "cell_type": "code",
   "execution_count": 157,
   "metadata": {},
   "outputs": [],
   "source": [
    "train_data_t['change'] = train_data_t.apply(changenum, axis =1)\n",
    "train_data_v['change'] = train_data_v.apply(changenum1, axis =1)\n",
    "test_data['change'] =test_data.apply(changenum2, axis =1)"
   ]
  },
  {
   "cell_type": "code",
   "execution_count": null,
   "metadata": {},
   "outputs": [],
   "source": []
  },
  {
   "cell_type": "code",
   "execution_count": 158,
   "metadata": {
    "executionInfo": {
     "elapsed": 1802,
     "status": "ok",
     "timestamp": 1632666594209,
     "user": {
      "displayName": "잠자는사자",
      "photoUrl": "https://lh3.googleusercontent.com/a/default-user=s64",
      "userId": "18070241319002710526"
     },
     "user_tz": -540
    },
    "id": "cRv6-3XCHwlH"
   },
   "outputs": [],
   "source": [
    "# 추가적으로 약간의 전처리를 통해 train data와 test data를 구성하겠습니다.\n",
    "\n",
    "train_data_t = train_data_t[(train_data_t[\"byn_dt\"] == train_data_t[\"bse_dt\"])]\n",
    "train_data_t.reset_index(drop = True, inplace = True)\n",
    "\n",
    "train_data_v = train_data_v[(train_data_v[\"byn_dt\"] == train_data_v[\"bse_dt\"])]\n",
    "train_data_v.reset_index(drop = True, inplace = True)\n",
    "\n",
    "test_data = test_data[(test_data[\"byn_dt\"] == test_data[\"bse_dt\"])]\n",
    "test_data.reset_index(drop = True, inplace = True)\n",
    "\n",
    "# train_data = train_data.drop([ \"iem_cd\", \"byn_dt\", \"bse_dt\"], axis = 1)\n",
    "# test_data = test_data.drop([\"act_id\", \"iem_cd\", \"byn_dt\", \"submit_id\", \"hold_d\", \"bse_dt\"], axis = 1)\n",
    "\n",
    "L_encoder = LabelEncoder()\n",
    "L_encoder.fit(iem[\"iem_krl_nm\"])\n",
    "train_data_t[\"iem_krl_nm\"] = L_encoder.transform(train_data_t[\"iem_krl_nm\"])\n",
    "train_data_v[\"iem_krl_nm\"] = L_encoder.transform(train_data_v[\"iem_krl_nm\"])\n",
    "test_data[\"iem_krl_nm\"] = L_encoder.transform(test_data[\"iem_krl_nm\"])\n",
    "\n",
    "L_encoder = LabelEncoder()\n",
    "L_encoder.fit(cus[\"act_id\"])\n",
    "train_data_t[\"act_id\"] = L_encoder.transform(train_data_t[\"act_id\"])\n",
    "train_data_v[\"act_id\"] = L_encoder.transform(train_data_v[\"act_id\"])\n",
    "test_data[\"act_id\"] = L_encoder.transform(test_data[\"act_id\"])\n",
    "\n",
    "train_data_t = train_data_t.drop([\"iem_cd\", \"byn_dt\", \"bse_dt\"], axis = 1)\n",
    "train_data_v = train_data_v.drop([\"iem_cd\", \"byn_dt\", \"bse_dt\"], axis = 1)\n",
    "test_data = test_data.drop([\"iem_cd\", \"byn_dt\", \"submit_id\", \"hold_d\", \"bse_dt\"], axis = 1)\n",
    "\n",
    "train_data_t.reset_index(drop = True, inplace=True)\n",
    "train_data_v.reset_index(drop = True, inplace=True)\n",
    "train_label.reset_index(drop = True, inplace=True)"
   ]
  },
  {
   "cell_type": "code",
   "execution_count": 159,
   "metadata": {
    "executionInfo": {
     "elapsed": 3,
     "status": "ok",
     "timestamp": 1632666594211,
     "user": {
      "displayName": "잠자는사자",
      "photoUrl": "https://lh3.googleusercontent.com/a/default-user=s64",
      "userId": "18070241319002710526"
     },
     "user_tz": -540
    },
    "id": "nP5xAj0QYPq5"
   },
   "outputs": [],
   "source": [
    "def change1(x):\n",
    "    if x == 99 or x == 0:\n",
    "        return None\n",
    "    else:\n",
    "        return x\n",
    "\n",
    "def change2(x):\n",
    "    if x == 99:\n",
    "        return None\n",
    "    else:\n",
    "        return x"
   ]
  },
  {
   "cell_type": "code",
   "execution_count": 160,
   "metadata": {
    "executionInfo": {
     "elapsed": 1,
     "status": "ok",
     "timestamp": 1632666595372,
     "user": {
      "displayName": "잠자는사자",
      "photoUrl": "https://lh3.googleusercontent.com/a/default-user=s64",
      "userId": "18070241319002710526"
     },
     "user_tz": -540
    },
    "id": "xFxXTJCUYDeD"
   },
   "outputs": [],
   "source": [
    "train_data_t['ivs_icn_cd'] = train_data_t['ivs_icn_cd'].apply(change1)\n",
    "train_data_v['ivs_icn_cd'] = train_data_v['ivs_icn_cd'].apply(change1)\n",
    "test_data['ivs_icn_cd'] = test_data['ivs_icn_cd'].apply(change1)"
   ]
  },
  {
   "cell_type": "code",
   "execution_count": 161,
   "metadata": {
    "executionInfo": {
     "elapsed": 2,
     "status": "ok",
     "timestamp": 1632666595691,
     "user": {
      "displayName": "잠자는사자",
      "photoUrl": "https://lh3.googleusercontent.com/a/default-user=s64",
      "userId": "18070241319002710526"
     },
     "user_tz": -540
    },
    "id": "VpVn_90watWH"
   },
   "outputs": [],
   "source": [
    "train_data_t['tco_cus_grd_cd'] = train_data_t['tco_cus_grd_cd'].apply(change2)\n",
    "train_data_v['tco_cus_grd_cd'] = train_data_v['tco_cus_grd_cd'].apply(change2)\n",
    "test_data['tco_cus_grd_cd'] = test_data['tco_cus_grd_cd'].apply(change2)"
   ]
  },
  {
   "cell_type": "code",
   "execution_count": 21,
   "metadata": {
    "id": "E9pzLMaiNL5B"
   },
   "outputs": [],
   "source": [
    "#여기서 저장"
   ]
  },
  {
   "cell_type": "code",
   "execution_count": 22,
   "metadata": {},
   "outputs": [],
   "source": [
    "train_data_t['ivs_icn_cd'] = train_data_t['ivs_icn_cd'].astype('category')\n",
    "train_data_v['ivs_icn_cd'] = train_data_v['ivs_icn_cd'].astype('category')\n",
    "\n",
    "train_data_t['tco_cus_grd_cd'] = train_data_t['tco_cus_grd_cd'].astype('category')\n",
    "train_data_v['tco_cus_grd_cd'] = train_data_v['tco_cus_grd_cd'].astype('category')\n",
    "\n",
    "train_data_t['act_id'] = train_data_t['act_id'].astype('category')\n",
    "train_data_v['act_id'] = train_data_v['act_id'].astype('category')\n",
    "\n",
    "train_data_t['sex_dit_cd'] = train_data_t['sex_dit_cd'].astype('category')\n",
    "train_data_v['sex_dit_cd'] = train_data_v['sex_dit_cd'].astype('category')\n",
    "\n",
    "train_data_t['cus_age_stn_cd'] = train_data_t['cus_age_stn_cd'].astype('category')\n",
    "train_data_v['cus_age_stn_cd'] = train_data_v['cus_age_stn_cd'].astype('category')\n",
    "\n",
    "train_data_t['cus_aet_stn_cd'] = train_data_t['cus_aet_stn_cd'].astype('category')\n",
    "train_data_v['cus_aet_stn_cd'] = train_data_v['cus_aet_stn_cd'].astype('category')\n",
    "\n",
    "train_data_t['mrz_pdt_tp_sgm_cd'] = train_data_t['mrz_pdt_tp_sgm_cd'].astype('category')\n",
    "train_data_v['mrz_pdt_tp_sgm_cd'] = train_data_v['mrz_pdt_tp_sgm_cd'].astype('category')\n",
    "\n",
    "train_data_t['tot_ivs_te_sgm_cd'] = train_data_t['tot_ivs_te_sgm_cd'].astype('category')\n",
    "train_data_v['tot_ivs_te_sgm_cd'] = train_data_v['tot_ivs_te_sgm_cd'].astype('category')\n",
    "\n",
    "train_data_t['lsg_sgm_cd'] = train_data_t['lsg_sgm_cd'].astype('category')\n",
    "train_data_v['lsg_sgm_cd'] = train_data_v['lsg_sgm_cd'].astype('category')\n",
    "\n",
    "train_data_t['mrz_btp_dit_cd'] = train_data_t['mrz_btp_dit_cd'].astype('category')\n",
    "train_data_v['mrz_btp_dit_cd'] = train_data_v['mrz_btp_dit_cd'].astype('category')\n",
    "\n",
    "train_data_t['btp_cfc_cd'] = train_data_t['btp_cfc_cd'].astype('category')\n",
    "train_data_v['btp_cfc_cd'] = train_data_v['btp_cfc_cd'].astype('category')\n",
    "\n",
    "train_data_t['mkt_pr_tal_scl_tp_cd'] = train_data_t['mkt_pr_tal_scl_tp_cd'].astype('category')\n",
    "train_data_v['mkt_pr_tal_scl_tp_cd'] = train_data_v['mkt_pr_tal_scl_tp_cd'].astype('category')\n",
    "\n",
    "train_data_t['stk_dit_cd'] = train_data_t['stk_dit_cd'].astype('category')\n",
    "train_data_v['stk_dit_cd'] = train_data_v['stk_dit_cd'].astype('category')"
   ]
  },
  {
   "cell_type": "code",
   "execution_count": 34,
   "metadata": {},
   "outputs": [
    {
     "data": {
      "text/plain": [
       "act_id                      0\n",
       "hist_d                      0\n",
       "sex_dit_cd                  0\n",
       "cus_age_stn_cd              0\n",
       "ivs_icn_cd              21125\n",
       "cus_aet_stn_cd              0\n",
       "mrz_pdt_tp_sgm_cd           0\n",
       "lsg_sgm_cd                  0\n",
       "tco_cus_grd_cd            124\n",
       "tot_ivs_te_sgm_cd           0\n",
       "mrz_btp_dit_cd              0\n",
       "iem_krl_nm                  0\n",
       "btp_cfc_cd                  0\n",
       "mkt_pr_tal_scl_tp_cd        0\n",
       "stk_dit_cd                  0\n",
       "bnc_qty                     0\n",
       "tot_aet_amt                 0\n",
       "stk_par_pr                  0\n",
       "stk_p                       0\n",
       "change                      0\n",
       "dtype: int64"
      ]
     },
     "execution_count": 34,
     "metadata": {},
     "output_type": "execute_result"
    }
   ],
   "source": [
    "test_data.isnull().sum()"
   ]
  },
  {
   "cell_type": "code",
   "execution_count": null,
   "metadata": {},
   "outputs": [],
   "source": [
    "act_id \n",
    "sex_dit_cd                 int64\n",
    "cus_age_stn_cd             int64\n",
    "ivs_icn_cd              category\n",
    "cus_aet_stn_cd             int64\n",
    "mrz_pdt_tp_sgm_cd          int64\n",
    "lsg_sgm_cd                 int64\n",
    "tco_cus_grd_cd          category\n",
    "tot_ivs_te_sgm_cd          int64\n",
    "mrz_btp_dit_cd             \n",
    "btp_cfc_cd                 int64\n",
    "mkt_pr_tal_scl_tp_cd       int64\n",
    "stk_dit_cd                 int64"
   ]
  },
  {
   "cell_type": "code",
   "execution_count": 87,
   "metadata": {},
   "outputs": [
    {
     "name": "stdout",
     "output_type": "stream",
     "text": [
      "Learning rate set to 0.076279\n",
      "0:\tlearn: 127.8677389\ttest: 137.2444634\tbest: 137.2444634 (0)\ttotal: 26.5ms\tremaining: 26.5s\n",
      "100:\tlearn: 35.8411407\ttest: 37.7612975\tbest: 37.3485393 (51)\ttotal: 2.47s\tremaining: 22s\n",
      "200:\tlearn: 35.1891462\ttest: 38.1494664\tbest: 37.3485393 (51)\ttotal: 4.83s\tremaining: 19.2s\n",
      "Stopped by overfitting detector  (200 iterations wait)\n",
      "\n",
      "bestTest = 37.34853931\n",
      "bestIteration = 51\n",
      "\n",
      "Shrink model to first 52 iterations.\n",
      "37.34853931474078\n"
     ]
    }
   ],
   "source": [
    "from catboost import CatBoostRegressor\n",
    "\n",
    "# tmp_train_x = train_data_t[train_data_t.columns.difference(['iem_krl_nm','ivs_icn_cd','tco_cus_grd_cd'])]\n",
    "# tmp_val_x = train_data_v[train_data_v.columns.difference(['iem_krl_nm','ivs_icn_cd','tco_cus_grd_cd'])]\n",
    "\n",
    "tmp_train_x = train_data_t[['hist_d', 'act_id','tot_ivs_te_sgm_cd','cus_aet_stn_cd']]\n",
    "tmp_val_x =train_data_v[['hist_d', 'act_id','tot_ivs_te_sgm_cd','cus_aet_stn_cd']]\n",
    "\n",
    "\n",
    "cb_model = CatBoostRegressor()\n",
    "#'iem_krl_nm', 'ivs_icn_cd', \n",
    "cb_model.fit(tmp_train_x, train_label, eval_set=(tmp_val_x, val_label), cat_features=['act_id','tot_ivs_te_sgm_cd','cus_aet_stn_cd']\n",
    "             , use_best_model=True, early_stopping_rounds=200, verbose=100) \n",
    "\n",
    "preds = cb_model.predict(tmp_val_x) \n",
    "\n",
    "rmse111 = np.sqrt(mean_squared_error(val_label, preds))\n",
    "print(rmse111)"
   ]
  },
  {
   "cell_type": "code",
   "execution_count": 29,
   "metadata": {},
   "outputs": [
    {
     "name": "stdout",
     "output_type": "stream",
     "text": [
      "37.46132776764247\n"
     ]
    }
   ],
   "source": [
    "rmse111 = np.sqrt(mean_squared_error(val_label, preds*1.01))\n",
    "print(rmse111 )"
   ]
  },
  {
   "cell_type": "code",
   "execution_count": 55,
   "metadata": {},
   "outputs": [],
   "source": [
    "import matplotlib.pyplot as plt\n",
    "import seaborn as sns\n",
    "def plot_feature_importance(importance,names,model_type):\n",
    "    \n",
    "    feature_importance = np.array(importance)\n",
    "    feature_names = np.array(names)\n",
    "    \n",
    "    data={'feature_names':feature_names,'feature_importance':feature_importance}\n",
    "    fi_df = pd.DataFrame(data)\n",
    "    \n",
    "    fi_df.sort_values(by=['feature_importance'], ascending=False,inplace=True)\n",
    "\n",
    "    plt.figure(figsize=(10,8))\n",
    "\n",
    "    sns.barplot(x=fi_df['feature_importance'], y=fi_df['feature_names'])\n",
    "\n",
    "    plt.title(model_type + ' Feature Importance')\n",
    "    plt.xlabel('Feature Importance')\n",
    "    plt.ylabel('Feature Names')"
   ]
  },
  {
   "cell_type": "code",
   "execution_count": 57,
   "metadata": {},
   "outputs": [
    {
     "data": {
      "image/png": "[encoded data removed]",
      "text/plain": [
       "<Figure size 720x576 with 1 Axes>"
      ]
     },
     "metadata": {
      "needs_background": "light"
     },
     "output_type": "display_data"
    }
   ],
   "source": [
    "plot_feature_importance(cb_model.get_feature_importance(),tmp_val_x[['hist_d', 'act_id','tot_ivs_te_sgm_cd','cus_aet_stn_cd']].columns,'CATBOOST')"
   ]
  },
  {
   "cell_type": "code",
   "execution_count": 24,
   "metadata": {
    "id": "6g1svHUQDb4M"
   },
   "outputs": [],
   "source": [
    "aaa =train_data.columns"
   ]
  },
  {
   "cell_type": "code",
   "execution_count": 35,
   "metadata": {},
   "outputs": [
    {
     "data": {
      "text/html": [
       "<div>\n",
       "<style scoped>\n",
       "    .dataframe tbody tr th:only-of-type {\n",
       "        vertical-align: middle;\n",
       "    }\n",
       "\n",
       "    .dataframe tbody tr th {\n",
       "        vertical-align: top;\n",
       "    }\n",
       "\n",
       "    .dataframe thead th {\n",
       "        text-align: right;\n",
       "    }\n",
       "</style>\n",
       "<table border=\"1\" class=\"dataframe\">\n",
       "  <thead>\n",
       "    <tr style=\"text-align: right;\">\n",
       "      <th></th>\n",
       "      <th>hist_d</th>\n",
       "      <th>act_id</th>\n",
       "      <th>tot_ivs_te_sgm_cd</th>\n",
       "      <th>cus_aet_stn_cd</th>\n",
       "    </tr>\n",
       "  </thead>\n",
       "  <tbody>\n",
       "    <tr>\n",
       "      <th>0</th>\n",
       "      <td>283</td>\n",
       "      <td>399</td>\n",
       "      <td>5</td>\n",
       "      <td>2</td>\n",
       "    </tr>\n",
       "    <tr>\n",
       "      <th>1</th>\n",
       "      <td>187</td>\n",
       "      <td>399</td>\n",
       "      <td>5</td>\n",
       "      <td>2</td>\n",
       "    </tr>\n",
       "    <tr>\n",
       "      <th>2</th>\n",
       "      <td>344</td>\n",
       "      <td>7085</td>\n",
       "      <td>6</td>\n",
       "      <td>3</td>\n",
       "    </tr>\n",
       "    <tr>\n",
       "      <th>3</th>\n",
       "      <td>130</td>\n",
       "      <td>2074</td>\n",
       "      <td>5</td>\n",
       "      <td>5</td>\n",
       "    </tr>\n",
       "    <tr>\n",
       "      <th>4</th>\n",
       "      <td>27</td>\n",
       "      <td>2074</td>\n",
       "      <td>5</td>\n",
       "      <td>5</td>\n",
       "    </tr>\n",
       "    <tr>\n",
       "      <th>...</th>\n",
       "      <td>...</td>\n",
       "      <td>...</td>\n",
       "      <td>...</td>\n",
       "      <td>...</td>\n",
       "    </tr>\n",
       "    <tr>\n",
       "      <th>14393</th>\n",
       "      <td>5</td>\n",
       "      <td>7012</td>\n",
       "      <td>3</td>\n",
       "      <td>6</td>\n",
       "    </tr>\n",
       "    <tr>\n",
       "      <th>14394</th>\n",
       "      <td>2</td>\n",
       "      <td>7012</td>\n",
       "      <td>3</td>\n",
       "      <td>6</td>\n",
       "    </tr>\n",
       "    <tr>\n",
       "      <th>14395</th>\n",
       "      <td>1</td>\n",
       "      <td>3022</td>\n",
       "      <td>5</td>\n",
       "      <td>2</td>\n",
       "    </tr>\n",
       "    <tr>\n",
       "      <th>14396</th>\n",
       "      <td>7</td>\n",
       "      <td>3310</td>\n",
       "      <td>5</td>\n",
       "      <td>5</td>\n",
       "    </tr>\n",
       "    <tr>\n",
       "      <th>14397</th>\n",
       "      <td>7</td>\n",
       "      <td>3310</td>\n",
       "      <td>5</td>\n",
       "      <td>5</td>\n",
       "    </tr>\n",
       "  </tbody>\n",
       "</table>\n",
       "<p>14398 rows × 4 columns</p>\n",
       "</div>"
      ],
      "text/plain": [
       "       hist_d  act_id  tot_ivs_te_sgm_cd  cus_aet_stn_cd\n",
       "0         283     399                  5               2\n",
       "1         187     399                  5               2\n",
       "2         344    7085                  6               3\n",
       "3         130    2074                  5               5\n",
       "4          27    2074                  5               5\n",
       "...       ...     ...                ...             ...\n",
       "14393       5    7012                  3               6\n",
       "14394       2    7012                  3               6\n",
       "14395       1    3022                  5               2\n",
       "14396       7    3310                  5               5\n",
       "14397       7    3310                  5               5\n",
       "\n",
       "[14398 rows x 4 columns]"
      ]
     },
     "execution_count": 35,
     "metadata": {},
     "output_type": "execute_result"
    }
   ],
   "source": [
    "tmp_train_x"
   ]
  },
  {
   "cell_type": "code",
   "execution_count": 202,
   "metadata": {
    "colab": {
     "base_uri": "https://localhost:8080/"
    },
    "executionInfo": {
     "elapsed": 43432,
     "status": "ok",
     "timestamp": 1632590410028,
     "user": {
      "displayName": "잠자는사자",
      "photoUrl": "https://lh3.googleusercontent.com/a/default-user=s64",
      "userId": "18070241319002710526"
     },
     "user_tz": -540
    },
    "id": "R_OEjouyHwlJ",
    "outputId": "648ec4dd-ab12-4f65-a26e-8ec6ec071c1d"
   },
   "outputs": [
    {
     "name": "stdout",
     "output_type": "stream",
     "text": [
      "[23:53:39] WARNING: C:/Users/Administrator/workspace/xgboost-win64_release_1.4.0/src/objective/regression_obj.cu:171: reg:linear is now deprecated in favor of reg:squarederror.\n",
      "[23:53:39] WARNING: C:/Users/Administrator/workspace/xgboost-win64_release_1.4.0/src/learner.cc:573: \n",
      "Parameters: { \"enable_categorical\" } might not be used.\n",
      "\n",
      "  This may not be accurate due to some parameters are only used in language bindings but\n",
      "  passed down to XGBoost core.  Or some parameters are not used but slip through this\n",
      "  verification. Please open an issue if you find above cases.\n",
      "\n",
      "\n",
      "28.540647902910692\n",
      "31.38760361006799\n"
     ]
    }
   ],
   "source": [
    "from xgboost import XGBRegressor\n",
    "from sklearn.model_selection import train_test_split\n",
    "from sklearn.metrics import mean_squared_error\n",
    "\n",
    "tmp_train_x1 = train_data_t1[['hist_d', 'tot_ivs_te_sgm_cd','cus_aet_stn_cd','change']]\n",
    "tmp_val_x1 =train_data_v1[['hist_d', 'tot_ivs_te_sgm_cd','cus_aet_stn_cd','change']]\n",
    "\n",
    "train_x1, val_x1, train_y1, val_y1 = train_test_split(tmp_train_x1, train_label1, test_size=0.2, random_state=777, shuffle=True)\n",
    "\n",
    "\n",
    "#tmp_train_x = train_x[train_x.columns.difference(['iem_krl_nm', 'mkt_pr_tal_scl_tp_cd', 'stk_dit_cd'])]\n",
    "#tmp_val_x = val_x[val_x.columns.difference(['iem_krl_nm', 'mkt_pr_tal_scl_tp_cd', 'stk_dit_cd'])]\n",
    "\n",
    "# tmp_train_x = train_data_t[train_data_t.columns.difference(['iem_krl_nm','ivs_icn_cd','tco_cus_grd_cd'])]\n",
    "# tmp_val_x = train_data_v[train_data_v.columns.difference(['iem_krl_nm','ivs_icn_cd','tco_cus_grd_cd'])]\n",
    "\n",
    "#tmp_train_x1 = train_data_t1[['hist_d', 'tot_ivs_te_sgm_cd','cus_aet_stn_cd','change']]\n",
    "#tmp_val_x1 =train_data_v1[['hist_d', 'tot_ivs_te_sgm_cd','cus_aet_stn_cd','change']]\n",
    "\n",
    "model = XGBRegressor(missing= -1, enable_categorical=True, base_score=0.5, booster='gbtree', colsample_bylevel=1,\n",
    "             colsample_bynode=1, colsample_bytree=1, gamma=0,\n",
    "             importance_type='gain', learning_rate=0.1, max_delta_step=0,\n",
    "             max_depth=4, min_child_weight=5, n_estimators=100,\n",
    "             n_jobs=1, nthread=None, objective='reg:linear', random_state=0,\n",
    "             reg_alpha=0, reg_lambda=1, scale_pos_weight=1, seed=None,\n",
    "             silent=None, subsample=0.9, verbosity=1)\n",
    "\n",
    "\n",
    "model.fit(train_x1, train_y1,\n",
    "          eval_set=[(val_x1, val_y1)],\n",
    "          eval_metric=[\"rmse\"],\n",
    "          early_stopping_rounds=200, verbose=False)\n",
    "\n",
    "preds2 = model.predict(tmp_val_x1)\n",
    "\n",
    "rmse222 = np.sqrt(mean_squared_error(val_label1, preds2))\n",
    "print(rmse222)\n",
    "rmse222 = np.sqrt(mean_squared_error(val_label1*1.1, preds2))\n",
    "print(rmse222)"
   ]
  },
  {
   "cell_type": "code",
   "execution_count": 203,
   "metadata": {},
   "outputs": [
    {
     "name": "stdout",
     "output_type": "stream",
     "text": [
      "[23:53:50] WARNING: C:/Users/Administrator/workspace/xgboost-win64_release_1.4.0/src/objective/regression_obj.cu:171: reg:linear is now deprecated in favor of reg:squarederror.\n",
      "[23:53:50] WARNING: C:/Users/Administrator/workspace/xgboost-win64_release_1.4.0/src/learner.cc:573: \n",
      "Parameters: { \"enable_categorical\" } might not be used.\n",
      "\n",
      "  This may not be accurate due to some parameters are only used in language bindings but\n",
      "  passed down to XGBoost core.  Or some parameters are not used but slip through this\n",
      "  verification. Please open an issue if you find above cases.\n",
      "\n",
      "\n",
      "37.2503652077964\n",
      "40.425835532920374\n"
     ]
    }
   ],
   "source": [
    "from xgboost import XGBRegressor\n",
    "from sklearn.model_selection import train_test_split\n",
    "from sklearn.metrics import mean_squared_error\n",
    "\n",
    "tmp_train_x2 = train_data_t2[['hist_d', 'tot_ivs_te_sgm_cd','cus_aet_stn_cd','change']]\n",
    "tmp_val_x2 =train_data_v2[['hist_d', 'tot_ivs_te_sgm_cd','cus_aet_stn_cd','change']]\n",
    "\n",
    "train_x2, val_x2, train_y2, val_y2 = train_test_split(tmp_train_x2, train_label2, test_size=0.2, random_state=777, shuffle=True)\n",
    "\n",
    "\n",
    "#tmp_train_x = train_x[train_x.columns.difference(['iem_krl_nm', 'mkt_pr_tal_scl_tp_cd', 'stk_dit_cd'])]\n",
    "#tmp_val_x = val_x[val_x.columns.difference(['iem_krl_nm', 'mkt_pr_tal_scl_tp_cd', 'stk_dit_cd'])]\n",
    "\n",
    "# tmp_train_x = train_data_t[train_data_t.columns.difference(['iem_krl_nm','ivs_icn_cd','tco_cus_grd_cd'])]\n",
    "# tmp_val_x = train_data_v[train_data_v.columns.difference(['iem_krl_nm','ivs_icn_cd','tco_cus_grd_cd'])]\n",
    "\n",
    "#tmp_train_x1 = train_data_t1[['hist_d', 'tot_ivs_te_sgm_cd','cus_aet_stn_cd','change']]\n",
    "#tmp_val_x1 =train_data_v1[['hist_d', 'tot_ivs_te_sgm_cd','cus_aet_stn_cd','change']]\n",
    "\n",
    "model = XGBRegressor(missing= -1, enable_categorical=True, base_score=0.5, booster='gbtree', colsample_bylevel=1,\n",
    "             colsample_bynode=1, colsample_bytree=1, gamma=0,\n",
    "             importance_type='gain', learning_rate=0.1, max_delta_step=0,\n",
    "             max_depth=4, min_child_weight=5, n_estimators=100,\n",
    "             n_jobs=1, nthread=None, objective='reg:linear', random_state=0,\n",
    "             reg_alpha=0, reg_lambda=1, scale_pos_weight=1, seed=None,\n",
    "             silent=None, subsample=0.9, verbosity=1)\n",
    "\n",
    "\n",
    "model.fit(train_x2, train_y2,\n",
    "          eval_set=[(val_x2, val_y2)],\n",
    "          eval_metric=[\"rmse\"],\n",
    "          early_stopping_rounds=200, verbose=False)\n",
    "\n",
    "preds2 = model.predict(tmp_val_x2)\n",
    "\n",
    "rmse222 = np.sqrt(mean_squared_error(val_label2, preds2))\n",
    "print(rmse222)\n",
    "rmse222 = np.sqrt(mean_squared_error(val_label2*1.1, preds2))\n",
    "print(rmse222)"
   ]
  },
  {
   "cell_type": "code",
   "execution_count": 204,
   "metadata": {},
   "outputs": [
    {
     "name": "stdout",
     "output_type": "stream",
     "text": [
      "[23:53:57] WARNING: C:/Users/Administrator/workspace/xgboost-win64_release_1.4.0/src/objective/regression_obj.cu:171: reg:linear is now deprecated in favor of reg:squarederror.\n",
      "[23:53:57] WARNING: C:/Users/Administrator/workspace/xgboost-win64_release_1.4.0/src/learner.cc:573: \n",
      "Parameters: { \"enable_categorical\" } might not be used.\n",
      "\n",
      "  This may not be accurate due to some parameters are only used in language bindings but\n",
      "  passed down to XGBoost core.  Or some parameters are not used but slip through this\n",
      "  verification. Please open an issue if you find above cases.\n",
      "\n",
      "\n",
      "41.35134812593484\n",
      "45.95963306553322\n"
     ]
    }
   ],
   "source": [
    "from xgboost import XGBRegressor\n",
    "from sklearn.model_selection import train_test_split\n",
    "from sklearn.metrics import mean_squared_error\n",
    "\n",
    "tmp_train_x3 = train_data_t3[['hist_d', 'tot_ivs_te_sgm_cd','cus_aet_stn_cd','change']]\n",
    "tmp_val_x3 =train_data_v3[['hist_d', 'tot_ivs_te_sgm_cd','cus_aet_stn_cd','change']]\n",
    "\n",
    "train_x3, val_x3, train_y3, val_y3 = train_test_split(tmp_train_x3, train_label3, test_size=0.2, random_state=777, shuffle=True)\n",
    "\n",
    "\n",
    "#tmp_train_x = train_x[train_x.columns.difference(['iem_krl_nm', 'mkt_pr_tal_scl_tp_cd', 'stk_dit_cd'])]\n",
    "#tmp_val_x = val_x[val_x.columns.difference(['iem_krl_nm', 'mkt_pr_tal_scl_tp_cd', 'stk_dit_cd'])]\n",
    "\n",
    "# tmp_train_x = train_data_t[train_data_t.columns.difference(['iem_krl_nm','ivs_icn_cd','tco_cus_grd_cd'])]\n",
    "# tmp_val_x = train_data_v[train_data_v.columns.difference(['iem_krl_nm','ivs_icn_cd','tco_cus_grd_cd'])]\n",
    "\n",
    "#tmp_train_x1 = train_data_t1[['hist_d', 'tot_ivs_te_sgm_cd','cus_aet_stn_cd','change']]\n",
    "#tmp_val_x1 =train_data_v1[['hist_d', 'tot_ivs_te_sgm_cd','cus_aet_stn_cd','change']]\n",
    "\n",
    "model = XGBRegressor(missing= -1, enable_categorical=True, base_score=0.5, booster='gbtree', colsample_bylevel=1,\n",
    "             colsample_bynode=1, colsample_bytree=1, gamma=0,\n",
    "             importance_type='gain', learning_rate=0.1, max_delta_step=0,\n",
    "             max_depth=4, min_child_weight=5, n_estimators=100,\n",
    "             n_jobs=1, nthread=None, objective='reg:linear', random_state=0,\n",
    "             reg_alpha=0, reg_lambda=1, scale_pos_weight=1, seed=None,\n",
    "             silent=None, subsample=0.9, verbosity=1)\n",
    "\n",
    "\n",
    "model.fit(train_x3, train_y3,\n",
    "          eval_set=[(val_x3, val_y3)],\n",
    "          eval_metric=[\"rmse\"],\n",
    "          early_stopping_rounds=200, verbose=False)\n",
    "\n",
    "preds2 = model.predict(tmp_val_x3)\n",
    "\n",
    "rmse222 = np.sqrt(mean_squared_error(val_label3, preds2))\n",
    "print(rmse222)\n",
    "rmse222 = np.sqrt(mean_squared_error(val_label3*1.1, preds2))\n",
    "print(rmse222)"
   ]
  },
  {
   "cell_type": "code",
   "execution_count": 205,
   "metadata": {},
   "outputs": [
    {
     "name": "stdout",
     "output_type": "stream",
     "text": [
      "[23:54:04] WARNING: C:/Users/Administrator/workspace/xgboost-win64_release_1.4.0/src/objective/regression_obj.cu:171: reg:linear is now deprecated in favor of reg:squarederror.\n",
      "[23:54:04] WARNING: C:/Users/Administrator/workspace/xgboost-win64_release_1.4.0/src/learner.cc:573: \n",
      "Parameters: { \"enable_categorical\" } might not be used.\n",
      "\n",
      "  This may not be accurate due to some parameters are only used in language bindings but\n",
      "  passed down to XGBoost core.  Or some parameters are not used but slip through this\n",
      "  verification. Please open an issue if you find above cases.\n",
      "\n",
      "\n",
      "43.01223661314053\n",
      "49.07369701403381\n"
     ]
    }
   ],
   "source": [
    "from xgboost import XGBRegressor\n",
    "from sklearn.model_selection import train_test_split\n",
    "from sklearn.metrics import mean_squared_error\n",
    "\n",
    "tmp_train_x4 = train_data_t4[['hist_d', 'tot_ivs_te_sgm_cd','cus_aet_stn_cd','change']]\n",
    "tmp_val_x4 =train_data_v4[['hist_d', 'tot_ivs_te_sgm_cd','cus_aet_stn_cd','change']]\n",
    "\n",
    "train_x4, val_x4, train_y4, val_y4 = train_test_split(tmp_train_x4, train_label4, test_size=0.2, random_state=777, shuffle=True)\n",
    "\n",
    "\n",
    "#tmp_train_x = train_x[train_x.columns.difference(['iem_krl_nm', 'mkt_pr_tal_scl_tp_cd', 'stk_dit_cd'])]\n",
    "#tmp_val_x = val_x[val_x.columns.difference(['iem_krl_nm', 'mkt_pr_tal_scl_tp_cd', 'stk_dit_cd'])]\n",
    "\n",
    "# tmp_train_x = train_data_t[train_data_t.columns.difference(['iem_krl_nm','ivs_icn_cd','tco_cus_grd_cd'])]\n",
    "# tmp_val_x = train_data_v[train_data_v.columns.difference(['iem_krl_nm','ivs_icn_cd','tco_cus_grd_cd'])]\n",
    "\n",
    "#tmp_train_x1 = train_data_t1[['hist_d', 'tot_ivs_te_sgm_cd','cus_aet_stn_cd','change']]\n",
    "#tmp_val_x1 =train_data_v1[['hist_d', 'tot_ivs_te_sgm_cd','cus_aet_stn_cd','change']]\n",
    "\n",
    "model = XGBRegressor(missing= -1, enable_categorical=True, base_score=0.5, booster='gbtree', colsample_bylevel=1,\n",
    "             colsample_bynode=1, colsample_bytree=1, gamma=0,\n",
    "             importance_type='gain', learning_rate=0.1, max_delta_step=0,\n",
    "             max_depth=4, min_child_weight=5, n_estimators=100,\n",
    "             n_jobs=1, nthread=None, objective='reg:linear', random_state=0,\n",
    "             reg_alpha=0, reg_lambda=1, scale_pos_weight=1, seed=None,\n",
    "             silent=None, subsample=0.9, verbosity=1)\n",
    "\n",
    "\n",
    "model.fit(train_x4, train_y4,\n",
    "          eval_set=[(val_x4, val_y4)],\n",
    "          eval_metric=[\"rmse\"],\n",
    "          early_stopping_rounds=200, verbose=False)\n",
    "\n",
    "preds2 = model.predict(tmp_val_x4)\n",
    "\n",
    "rmse222 = np.sqrt(mean_squared_error(val_label4, preds2))\n",
    "print(rmse222)\n",
    "rmse222 = np.sqrt(mean_squared_error(val_label4*1.1, preds2))\n",
    "print(rmse222)"
   ]
  },
  {
   "cell_type": "code",
   "execution_count": 206,
   "metadata": {},
   "outputs": [
    {
     "name": "stdout",
     "output_type": "stream",
     "text": [
      "[23:54:09] WARNING: C:/Users/Administrator/workspace/xgboost-win64_release_1.4.0/src/objective/regression_obj.cu:171: reg:linear is now deprecated in favor of reg:squarederror.\n",
      "[23:54:09] WARNING: C:/Users/Administrator/workspace/xgboost-win64_release_1.4.0/src/learner.cc:573: \n",
      "Parameters: { \"enable_categorical\" } might not be used.\n",
      "\n",
      "  This may not be accurate due to some parameters are only used in language bindings but\n",
      "  passed down to XGBoost core.  Or some parameters are not used but slip through this\n",
      "  verification. Please open an issue if you find above cases.\n",
      "\n",
      "\n",
      "44.316886419464915\n",
      "54.87876840528791\n"
     ]
    }
   ],
   "source": [
    "from xgboost import XGBRegressor\n",
    "from sklearn.model_selection import train_test_split\n",
    "from sklearn.metrics import mean_squared_error\n",
    "\n",
    "tmp_train_x5 = train_data_t5[['hist_d', 'tot_ivs_te_sgm_cd','cus_aet_stn_cd','change']]\n",
    "tmp_val_x5 =train_data_v5[['hist_d', 'tot_ivs_te_sgm_cd','cus_aet_stn_cd','change']]\n",
    "\n",
    "train_x5, val_x5, train_y5, val_y5 = train_test_split(tmp_train_x5, train_label5, test_size=0.2, random_state=777, shuffle=True)\n",
    "\n",
    "\n",
    "#tmp_train_x = train_x[train_x.columns.difference(['iem_krl_nm', 'mkt_pr_tal_scl_tp_cd', 'stk_dit_cd'])]\n",
    "#tmp_val_x = val_x[val_x.columns.difference(['iem_krl_nm', 'mkt_pr_tal_scl_tp_cd', 'stk_dit_cd'])]\n",
    "\n",
    "# tmp_train_x = train_data_t[train_data_t.columns.difference(['iem_krl_nm','ivs_icn_cd','tco_cus_grd_cd'])]\n",
    "# tmp_val_x = train_data_v[train_data_v.columns.difference(['iem_krl_nm','ivs_icn_cd','tco_cus_grd_cd'])]\n",
    "\n",
    "#tmp_train_x1 = train_data_t1[['hist_d', 'tot_ivs_te_sgm_cd','cus_aet_stn_cd','change']]\n",
    "#tmp_val_x1 =train_data_v1[['hist_d', 'tot_ivs_te_sgm_cd','cus_aet_stn_cd','change']]\n",
    "\n",
    "model = XGBRegressor(missing= -1, enable_categorical=True, base_score=0.5, booster='gbtree', colsample_bylevel=1,\n",
    "             colsample_bynode=1, colsample_bytree=1, gamma=0,\n",
    "             importance_type='gain', learning_rate=0.1, max_delta_step=0,\n",
    "             max_depth=4, min_child_weight=5, n_estimators=100,\n",
    "             n_jobs=1, nthread=None, objective='reg:linear', random_state=0,\n",
    "             reg_alpha=0, reg_lambda=1, scale_pos_weight=1, seed=None,\n",
    "             silent=None, subsample=0.9, verbosity=1)\n",
    "\n",
    "\n",
    "model.fit(train_x5, train_y5,\n",
    "          eval_set=[(val_x5, val_y5)],\n",
    "          eval_metric=[\"rmse\"],\n",
    "          early_stopping_rounds=200, verbose=False)\n",
    "\n",
    "preds2 = model.predict(tmp_val_x5)\n",
    "\n",
    "rmse222 = np.sqrt(mean_squared_error(val_label5, preds2))\n",
    "print(rmse222)\n",
    "rmse222 = np.sqrt(mean_squared_error(val_label5*1.1, preds2))\n",
    "print(rmse222)"
   ]
  },
  {
   "cell_type": "code",
   "execution_count": 208,
   "metadata": {},
   "outputs": [
    {
     "name": "stdout",
     "output_type": "stream",
     "text": [
      "[23:54:21] WARNING: C:/Users/Administrator/workspace/xgboost-win64_release_1.4.0/src/objective/regression_obj.cu:171: reg:linear is now deprecated in favor of reg:squarederror.\n",
      "[23:54:21] WARNING: C:/Users/Administrator/workspace/xgboost-win64_release_1.4.0/src/learner.cc:573: \n",
      "Parameters: { \"enable_categorical\" } might not be used.\n",
      "\n",
      "  This may not be accurate due to some parameters are only used in language bindings but\n",
      "  passed down to XGBoost core.  Or some parameters are not used but slip through this\n",
      "  verification. Please open an issue if you find above cases.\n",
      "\n",
      "\n",
      "46.408291969717766\n",
      "67.35300718513858\n"
     ]
    }
   ],
   "source": [
    "from xgboost import XGBRegressor\n",
    "from sklearn.model_selection import train_test_split\n",
    "from sklearn.metrics import mean_squared_error\n",
    "\n",
    "tmp_train_x6 = train_data_t6[['hist_d', 'tot_ivs_te_sgm_cd','cus_aet_stn_cd','change']]\n",
    "tmp_val_x6 =train_data_v6[['hist_d', 'tot_ivs_te_sgm_cd','cus_aet_stn_cd','change']]\n",
    "\n",
    "train_x6, val_x6, train_y6, val_y6 = train_test_split(tmp_train_x6, train_label6, test_size=0.2, random_state=777, shuffle=True)\n",
    "\n",
    "\n",
    "#tmp_train_x = train_x[train_x.columns.difference(['iem_krl_nm', 'mkt_pr_tal_scl_tp_cd', 'stk_dit_cd'])]\n",
    "#tmp_val_x = val_x[val_x.columns.difference(['iem_krl_nm', 'mkt_pr_tal_scl_tp_cd', 'stk_dit_cd'])]\n",
    "\n",
    "# tmp_train_x = train_data_t[train_data_t.columns.difference(['iem_krl_nm','ivs_icn_cd','tco_cus_grd_cd'])]\n",
    "# tmp_val_x = train_data_v[train_data_v.columns.difference(['iem_krl_nm','ivs_icn_cd','tco_cus_grd_cd'])]\n",
    "\n",
    "#tmp_train_x1 = train_data_t1[['hist_d', 'tot_ivs_te_sgm_cd','cus_aet_stn_cd','change']]\n",
    "#tmp_val_x1 =train_data_v1[['hist_d', 'tot_ivs_te_sgm_cd','cus_aet_stn_cd','change']]\n",
    "\n",
    "model = XGBRegressor(missing= -1, enable_categorical=True, base_score=0.5, booster='gbtree', colsample_bylevel=1,\n",
    "             colsample_bynode=1, colsample_bytree=1, gamma=0,\n",
    "             importance_type='gain', learning_rate=0.1, max_delta_step=0,\n",
    "             max_depth=4, min_child_weight=5, n_estimators=100,\n",
    "             n_jobs=1, nthread=None, objective='reg:linear', random_state=0,\n",
    "             reg_alpha=0, reg_lambda=1, scale_pos_weight=1, seed=None,\n",
    "             silent=None, subsample=0.9, verbosity=1)\n",
    "\n",
    "\n",
    "model.fit(train_x6, train_y6,\n",
    "          eval_set=[(val_x6, val_y6)],\n",
    "          eval_metric=[\"rmse\"],\n",
    "          early_stopping_rounds=200, verbose=False)\n",
    "\n",
    "preds2 = model.predict(tmp_val_x6)\n",
    "\n",
    "rmse222 = np.sqrt(mean_squared_error(val_label6, preds2))\n",
    "print(rmse222)\n",
    "rmse222 = np.sqrt(mean_squared_error(val_label6*1.1, preds2))\n",
    "print(rmse222)"
   ]
  },
  {
   "cell_type": "code",
   "execution_count": 210,
   "metadata": {},
   "outputs": [
    {
     "name": "stdout",
     "output_type": "stream",
     "text": [
      "39.833333333333336\n"
     ]
    }
   ],
   "source": [
    "print((46+44+43+28+37+41)/6)"
   ]
  },
  {
   "cell_type": "code",
   "execution_count": null,
   "metadata": {},
   "outputs": [],
   "source": []
  },
  {
   "cell_type": "code",
   "execution_count": null,
   "metadata": {
    "id": "FguNhxqhKibh"
   },
   "outputs": [],
   "source": [
    "'sex_dit_cd', 'cus_aet_stn_cd', 'tco_cus_grd_cd', 'bnc_qty', 'tot_aet_amt', 'ivs_icn_cd'"
   ]
  },
  {
   "cell_type": "code",
   "execution_count": 104,
   "metadata": {
    "colab": {
     "base_uri": "https://localhost:8080/"
    },
    "executionInfo": {
     "elapsed": 212,
     "status": "ok",
     "timestamp": 1632590566969,
     "user": {
      "displayName": "잠자는사자",
      "photoUrl": "https://lh3.googleusercontent.com/a/default-user=s64",
      "userId": "18070241319002710526"
     },
     "user_tz": -540
    },
    "id": "PfarSsEAJaqb",
    "outputId": "866fe6b7-1839-46f6-9e05-79b209b06308"
   },
   "outputs": [
    {
     "data": {
      "text/html": [
       "<div>\n",
       "<style scoped>\n",
       "    .dataframe tbody tr th:only-of-type {\n",
       "        vertical-align: middle;\n",
       "    }\n",
       "\n",
       "    .dataframe tbody tr th {\n",
       "        vertical-align: top;\n",
       "    }\n",
       "\n",
       "    .dataframe thead th {\n",
       "        text-align: right;\n",
       "    }\n",
       "</style>\n",
       "<table border=\"1\" class=\"dataframe\">\n",
       "  <thead>\n",
       "    <tr style=\"text-align: right;\">\n",
       "      <th></th>\n",
       "      <th>act_id</th>\n",
       "      <th>hist_d</th>\n",
       "      <th>sex_dit_cd</th>\n",
       "      <th>cus_age_stn_cd</th>\n",
       "      <th>ivs_icn_cd</th>\n",
       "      <th>cus_aet_stn_cd</th>\n",
       "      <th>mrz_pdt_tp_sgm_cd</th>\n",
       "      <th>lsg_sgm_cd</th>\n",
       "      <th>tco_cus_grd_cd</th>\n",
       "      <th>tot_ivs_te_sgm_cd</th>\n",
       "      <th>mrz_btp_dit_cd</th>\n",
       "      <th>iem_krl_nm</th>\n",
       "      <th>btp_cfc_cd</th>\n",
       "      <th>mkt_pr_tal_scl_tp_cd</th>\n",
       "      <th>stk_dit_cd</th>\n",
       "      <th>bnc_qty</th>\n",
       "      <th>tot_aet_amt</th>\n",
       "      <th>stk_par_pr</th>\n",
       "      <th>stk_p</th>\n",
       "      <th>change</th>\n",
       "    </tr>\n",
       "  </thead>\n",
       "  <tbody>\n",
       "    <tr>\n",
       "      <th>0</th>\n",
       "      <td>399</td>\n",
       "      <td>283</td>\n",
       "      <td>1</td>\n",
       "      <td>9</td>\n",
       "      <td>3.0</td>\n",
       "      <td>2</td>\n",
       "      <td>2</td>\n",
       "      <td>9</td>\n",
       "      <td>5</td>\n",
       "      <td>5</td>\n",
       "      <td>8</td>\n",
       "      <td>1696</td>\n",
       "      <td>10</td>\n",
       "      <td>3</td>\n",
       "      <td>99</td>\n",
       "      <td>183.0</td>\n",
       "      <td>8125200.0</td>\n",
       "      <td>5000.0</td>\n",
       "      <td>44400.0</td>\n",
       "      <td>4</td>\n",
       "    </tr>\n",
       "    <tr>\n",
       "      <th>1</th>\n",
       "      <td>399</td>\n",
       "      <td>187</td>\n",
       "      <td>1</td>\n",
       "      <td>9</td>\n",
       "      <td>3.0</td>\n",
       "      <td>2</td>\n",
       "      <td>2</td>\n",
       "      <td>9</td>\n",
       "      <td>5</td>\n",
       "      <td>5</td>\n",
       "      <td>8</td>\n",
       "      <td>1884</td>\n",
       "      <td>13</td>\n",
       "      <td>1</td>\n",
       "      <td>2</td>\n",
       "      <td>305.0</td>\n",
       "      <td>9973500.0</td>\n",
       "      <td>500.0</td>\n",
       "      <td>32700.0</td>\n",
       "      <td>11</td>\n",
       "    </tr>\n",
       "    <tr>\n",
       "      <th>2</th>\n",
       "      <td>7085</td>\n",
       "      <td>344</td>\n",
       "      <td>1</td>\n",
       "      <td>6</td>\n",
       "      <td>NaN</td>\n",
       "      <td>3</td>\n",
       "      <td>2</td>\n",
       "      <td>5</td>\n",
       "      <td>5</td>\n",
       "      <td>6</td>\n",
       "      <td>9</td>\n",
       "      <td>973</td>\n",
       "      <td>10</td>\n",
       "      <td>2</td>\n",
       "      <td>2</td>\n",
       "      <td>102.0</td>\n",
       "      <td>507450.0</td>\n",
       "      <td>500.0</td>\n",
       "      <td>4975.0</td>\n",
       "      <td>25</td>\n",
       "    </tr>\n",
       "    <tr>\n",
       "      <th>3</th>\n",
       "      <td>2074</td>\n",
       "      <td>130</td>\n",
       "      <td>1</td>\n",
       "      <td>4</td>\n",
       "      <td>5.0</td>\n",
       "      <td>5</td>\n",
       "      <td>2</td>\n",
       "      <td>3</td>\n",
       "      <td>4</td>\n",
       "      <td>5</td>\n",
       "      <td>16</td>\n",
       "      <td>883</td>\n",
       "      <td>7</td>\n",
       "      <td>3</td>\n",
       "      <td>99</td>\n",
       "      <td>1670.0</td>\n",
       "      <td>9769500.0</td>\n",
       "      <td>5000.0</td>\n",
       "      <td>5850.0</td>\n",
       "      <td>56</td>\n",
       "    </tr>\n",
       "    <tr>\n",
       "      <th>4</th>\n",
       "      <td>2074</td>\n",
       "      <td>27</td>\n",
       "      <td>1</td>\n",
       "      <td>4</td>\n",
       "      <td>5.0</td>\n",
       "      <td>5</td>\n",
       "      <td>2</td>\n",
       "      <td>3</td>\n",
       "      <td>4</td>\n",
       "      <td>5</td>\n",
       "      <td>16</td>\n",
       "      <td>2663</td>\n",
       "      <td>13</td>\n",
       "      <td>3</td>\n",
       "      <td>99</td>\n",
       "      <td>7999.0</td>\n",
       "      <td>19517560.0</td>\n",
       "      <td>500.0</td>\n",
       "      <td>2440.0</td>\n",
       "      <td>32</td>\n",
       "    </tr>\n",
       "    <tr>\n",
       "      <th>...</th>\n",
       "      <td>...</td>\n",
       "      <td>...</td>\n",
       "      <td>...</td>\n",
       "      <td>...</td>\n",
       "      <td>...</td>\n",
       "      <td>...</td>\n",
       "      <td>...</td>\n",
       "      <td>...</td>\n",
       "      <td>...</td>\n",
       "      <td>...</td>\n",
       "      <td>...</td>\n",
       "      <td>...</td>\n",
       "      <td>...</td>\n",
       "      <td>...</td>\n",
       "      <td>...</td>\n",
       "      <td>...</td>\n",
       "      <td>...</td>\n",
       "      <td>...</td>\n",
       "      <td>...</td>\n",
       "      <td>...</td>\n",
       "    </tr>\n",
       "    <tr>\n",
       "      <th>14393</th>\n",
       "      <td>7012</td>\n",
       "      <td>5</td>\n",
       "      <td>2</td>\n",
       "      <td>2</td>\n",
       "      <td>NaN</td>\n",
       "      <td>6</td>\n",
       "      <td>2</td>\n",
       "      <td>2</td>\n",
       "      <td>2</td>\n",
       "      <td>3</td>\n",
       "      <td>16</td>\n",
       "      <td>1851</td>\n",
       "      <td>10</td>\n",
       "      <td>1</td>\n",
       "      <td>2</td>\n",
       "      <td>264.0</td>\n",
       "      <td>34584000.0</td>\n",
       "      <td>500.0</td>\n",
       "      <td>131000.0</td>\n",
       "      <td>2</td>\n",
       "    </tr>\n",
       "    <tr>\n",
       "      <th>14394</th>\n",
       "      <td>7012</td>\n",
       "      <td>2</td>\n",
       "      <td>2</td>\n",
       "      <td>2</td>\n",
       "      <td>NaN</td>\n",
       "      <td>6</td>\n",
       "      <td>2</td>\n",
       "      <td>2</td>\n",
       "      <td>2</td>\n",
       "      <td>3</td>\n",
       "      <td>16</td>\n",
       "      <td>2858</td>\n",
       "      <td>12</td>\n",
       "      <td>2</td>\n",
       "      <td>1</td>\n",
       "      <td>208.0</td>\n",
       "      <td>10015200.0</td>\n",
       "      <td>500.0</td>\n",
       "      <td>48150.0</td>\n",
       "      <td>2</td>\n",
       "    </tr>\n",
       "    <tr>\n",
       "      <th>14395</th>\n",
       "      <td>3022</td>\n",
       "      <td>1</td>\n",
       "      <td>1</td>\n",
       "      <td>7</td>\n",
       "      <td>3.0</td>\n",
       "      <td>2</td>\n",
       "      <td>2</td>\n",
       "      <td>5</td>\n",
       "      <td>5</td>\n",
       "      <td>5</td>\n",
       "      <td>10</td>\n",
       "      <td>470</td>\n",
       "      <td>13</td>\n",
       "      <td>3</td>\n",
       "      <td>99</td>\n",
       "      <td>3523.0</td>\n",
       "      <td>4756050.0</td>\n",
       "      <td>100.0</td>\n",
       "      <td>1350.0</td>\n",
       "      <td>2</td>\n",
       "    </tr>\n",
       "    <tr>\n",
       "      <th>14396</th>\n",
       "      <td>3310</td>\n",
       "      <td>7</td>\n",
       "      <td>1</td>\n",
       "      <td>6</td>\n",
       "      <td>NaN</td>\n",
       "      <td>5</td>\n",
       "      <td>2</td>\n",
       "      <td>5</td>\n",
       "      <td>3</td>\n",
       "      <td>5</td>\n",
       "      <td>2</td>\n",
       "      <td>1501</td>\n",
       "      <td>10</td>\n",
       "      <td>2</td>\n",
       "      <td>99</td>\n",
       "      <td>10.0</td>\n",
       "      <td>33950.0</td>\n",
       "      <td>100.0</td>\n",
       "      <td>3395.0</td>\n",
       "      <td>49</td>\n",
       "    </tr>\n",
       "    <tr>\n",
       "      <th>14397</th>\n",
       "      <td>3310</td>\n",
       "      <td>7</td>\n",
       "      <td>1</td>\n",
       "      <td>6</td>\n",
       "      <td>NaN</td>\n",
       "      <td>5</td>\n",
       "      <td>2</td>\n",
       "      <td>5</td>\n",
       "      <td>3</td>\n",
       "      <td>5</td>\n",
       "      <td>2</td>\n",
       "      <td>1330</td>\n",
       "      <td>14</td>\n",
       "      <td>2</td>\n",
       "      <td>99</td>\n",
       "      <td>2.0</td>\n",
       "      <td>113400.0</td>\n",
       "      <td>5000.0</td>\n",
       "      <td>56700.0</td>\n",
       "      <td>130</td>\n",
       "    </tr>\n",
       "  </tbody>\n",
       "</table>\n",
       "<p>14398 rows × 20 columns</p>\n",
       "</div>"
      ],
      "text/plain": [
       "       act_id  hist_d  sex_dit_cd  cus_age_stn_cd  ivs_icn_cd  cus_aet_stn_cd  \\\n",
       "0         399     283           1               9         3.0               2   \n",
       "1         399     187           1               9         3.0               2   \n",
       "2        7085     344           1               6         NaN               3   \n",
       "3        2074     130           1               4         5.0               5   \n",
       "4        2074      27           1               4         5.0               5   \n",
       "...       ...     ...         ...             ...         ...             ...   \n",
       "14393    7012       5           2               2         NaN               6   \n",
       "14394    7012       2           2               2         NaN               6   \n",
       "14395    3022       1           1               7         3.0               2   \n",
       "14396    3310       7           1               6         NaN               5   \n",
       "14397    3310       7           1               6         NaN               5   \n",
       "\n",
       "       mrz_pdt_tp_sgm_cd  lsg_sgm_cd  tco_cus_grd_cd  tot_ivs_te_sgm_cd  \\\n",
       "0                      2           9               5                  5   \n",
       "1                      2           9               5                  5   \n",
       "2                      2           5               5                  6   \n",
       "3                      2           3               4                  5   \n",
       "4                      2           3               4                  5   \n",
       "...                  ...         ...             ...                ...   \n",
       "14393                  2           2               2                  3   \n",
       "14394                  2           2               2                  3   \n",
       "14395                  2           5               5                  5   \n",
       "14396                  2           5               3                  5   \n",
       "14397                  2           5               3                  5   \n",
       "\n",
       "       mrz_btp_dit_cd  iem_krl_nm  btp_cfc_cd  mkt_pr_tal_scl_tp_cd  \\\n",
       "0                   8        1696          10                     3   \n",
       "1                   8        1884          13                     1   \n",
       "2                   9         973          10                     2   \n",
       "3                  16         883           7                     3   \n",
       "4                  16        2663          13                     3   \n",
       "...               ...         ...         ...                   ...   \n",
       "14393              16        1851          10                     1   \n",
       "14394              16        2858          12                     2   \n",
       "14395              10         470          13                     3   \n",
       "14396               2        1501          10                     2   \n",
       "14397               2        1330          14                     2   \n",
       "\n",
       "       stk_dit_cd  bnc_qty  tot_aet_amt  stk_par_pr     stk_p  change  \n",
       "0              99    183.0    8125200.0      5000.0   44400.0       4  \n",
       "1               2    305.0    9973500.0       500.0   32700.0      11  \n",
       "2               2    102.0     507450.0       500.0    4975.0      25  \n",
       "3              99   1670.0    9769500.0      5000.0    5850.0      56  \n",
       "4              99   7999.0   19517560.0       500.0    2440.0      32  \n",
       "...           ...      ...          ...         ...       ...     ...  \n",
       "14393           2    264.0   34584000.0       500.0  131000.0       2  \n",
       "14394           1    208.0   10015200.0       500.0   48150.0       2  \n",
       "14395          99   3523.0    4756050.0       100.0    1350.0       2  \n",
       "14396          99     10.0      33950.0       100.0    3395.0      49  \n",
       "14397          99      2.0     113400.0      5000.0   56700.0     130  \n",
       "\n",
       "[14398 rows x 20 columns]"
      ]
     },
     "execution_count": 104,
     "metadata": {},
     "output_type": "execute_result"
    }
   ],
   "source": [
    "train_data_t"
   ]
  },
  {
   "cell_type": "code",
   "execution_count": 124,
   "metadata": {},
   "outputs": [],
   "source": [
    "train_data_t = train_data_t.sort_values(by='hist_d')"
   ]
  },
  {
   "cell_type": "code",
   "execution_count": 164,
   "metadata": {},
   "outputs": [],
   "source": [
    "train_data_t1 = train_data_t[train_data_t['hist_d']<=10]\n",
    "train_data_t2 = train_data_t[(train_data_t['hist_d']>10) & (train_data_t['hist_d']<=50)]\n",
    "train_data_t3 = train_data_t[(train_data_t['hist_d']>50) & (train_data_t['hist_d']<=100)]\n",
    "train_data_t4 = train_data_t[(train_data_t['hist_d']>100) & (train_data_t['hist_d']<=200)]\n",
    "train_data_t5 = train_data_t[(train_data_t['hist_d']>200) & (train_data_t['hist_d']<=300)]\n",
    "train_data_t6 = train_data_t[(train_data_t['hist_d']>300)]"
   ]
  },
  {
   "cell_type": "code",
   "execution_count": 165,
   "metadata": {},
   "outputs": [],
   "source": [
    "train_data_v1 = train_data_v[train_data_v['hist_d']<=10]\n",
    "train_data_v2 = train_data_v[(train_data_v['hist_d']>10) & (train_data_v['hist_d']<=50)]\n",
    "train_data_v3 = train_data_v[(train_data_v['hist_d']>50) & (train_data_v['hist_d']<=100)]\n",
    "train_data_v4 = train_data_v[(train_data_v['hist_d']>100) & (train_data_v['hist_d']<=200)]\n",
    "train_data_v5 = train_data_v[(train_data_v['hist_d']>200) & (train_data_v['hist_d']<=300)]\n",
    "train_data_v6 = train_data_v[(train_data_v['hist_d']>300)] "
   ]
  },
  {
   "cell_type": "code",
   "execution_count": null,
   "metadata": {},
   "outputs": [],
   "source": [
    "train_data_v1 = train_data_v[train_data_v['hist_d']<=10]\n",
    "train_data_v2 = train_data_v[(train_data_v['hist_d']>10) & (train_data_v['hist_d']<=50)]\n",
    "train_data_v3 = train_data_v[(train_data_v['hist_d']>50) & (train_data_v['hist_d']<=100)]\n",
    "train_data_v4 = train_data_v[(train_data_v['hist_d']>100) & (train_data_v['hist_d']<=200)]\n",
    "train_data_v5 = train_data_v[(train_data_v['hist_d']>200) & (train_data_v['hist_d']<=300)]\n",
    "train_data_v6 = train_data_v[(train_data_v['hist_d']>300)] "
   ]
  },
  {
   "cell_type": "code",
   "execution_count": 211,
   "metadata": {},
   "outputs": [
    {
     "data": {
      "text/html": [
       "<div>\n",
       "<style scoped>\n",
       "    .dataframe tbody tr th:only-of-type {\n",
       "        vertical-align: middle;\n",
       "    }\n",
       "\n",
       "    .dataframe tbody tr th {\n",
       "        vertical-align: top;\n",
       "    }\n",
       "\n",
       "    .dataframe thead th {\n",
       "        text-align: right;\n",
       "    }\n",
       "</style>\n",
       "<table border=\"1\" class=\"dataframe\">\n",
       "  <thead>\n",
       "    <tr style=\"text-align: right;\">\n",
       "      <th></th>\n",
       "      <th>act_id</th>\n",
       "      <th>hist_d</th>\n",
       "      <th>sex_dit_cd</th>\n",
       "      <th>cus_age_stn_cd</th>\n",
       "      <th>ivs_icn_cd</th>\n",
       "      <th>cus_aet_stn_cd</th>\n",
       "      <th>mrz_pdt_tp_sgm_cd</th>\n",
       "      <th>lsg_sgm_cd</th>\n",
       "      <th>tco_cus_grd_cd</th>\n",
       "      <th>tot_ivs_te_sgm_cd</th>\n",
       "      <th>mrz_btp_dit_cd</th>\n",
       "      <th>iem_krl_nm</th>\n",
       "      <th>btp_cfc_cd</th>\n",
       "      <th>mkt_pr_tal_scl_tp_cd</th>\n",
       "      <th>stk_dit_cd</th>\n",
       "      <th>bnc_qty</th>\n",
       "      <th>tot_aet_amt</th>\n",
       "      <th>stk_par_pr</th>\n",
       "      <th>stk_p</th>\n",
       "      <th>change</th>\n",
       "    </tr>\n",
       "  </thead>\n",
       "  <tbody>\n",
       "    <tr>\n",
       "      <th>0</th>\n",
       "      <td>399</td>\n",
       "      <td>153</td>\n",
       "      <td>1</td>\n",
       "      <td>9</td>\n",
       "      <td>3.0</td>\n",
       "      <td>2</td>\n",
       "      <td>2</td>\n",
       "      <td>9</td>\n",
       "      <td>5.0</td>\n",
       "      <td>5</td>\n",
       "      <td>8</td>\n",
       "      <td>418</td>\n",
       "      <td>4</td>\n",
       "      <td>1</td>\n",
       "      <td>1</td>\n",
       "      <td>300.0</td>\n",
       "      <td>3945000.0</td>\n",
       "      <td>5000.0</td>\n",
       "      <td>13150.0</td>\n",
       "      <td>1</td>\n",
       "    </tr>\n",
       "    <tr>\n",
       "      <th>1</th>\n",
       "      <td>399</td>\n",
       "      <td>335</td>\n",
       "      <td>1</td>\n",
       "      <td>9</td>\n",
       "      <td>3.0</td>\n",
       "      <td>2</td>\n",
       "      <td>2</td>\n",
       "      <td>9</td>\n",
       "      <td>5.0</td>\n",
       "      <td>5</td>\n",
       "      <td>8</td>\n",
       "      <td>2230</td>\n",
       "      <td>10</td>\n",
       "      <td>3</td>\n",
       "      <td>99</td>\n",
       "      <td>198.0</td>\n",
       "      <td>2524500.0</td>\n",
       "      <td>500.0</td>\n",
       "      <td>12750.0</td>\n",
       "      <td>2</td>\n",
       "    </tr>\n",
       "    <tr>\n",
       "      <th>2</th>\n",
       "      <td>399</td>\n",
       "      <td>139</td>\n",
       "      <td>1</td>\n",
       "      <td>9</td>\n",
       "      <td>3.0</td>\n",
       "      <td>2</td>\n",
       "      <td>2</td>\n",
       "      <td>9</td>\n",
       "      <td>5.0</td>\n",
       "      <td>5</td>\n",
       "      <td>8</td>\n",
       "      <td>1515</td>\n",
       "      <td>13</td>\n",
       "      <td>2</td>\n",
       "      <td>99</td>\n",
       "      <td>138.0</td>\n",
       "      <td>4291800.0</td>\n",
       "      <td>500.0</td>\n",
       "      <td>31100.0</td>\n",
       "      <td>3</td>\n",
       "    </tr>\n",
       "    <tr>\n",
       "      <th>3</th>\n",
       "      <td>399</td>\n",
       "      <td>236</td>\n",
       "      <td>1</td>\n",
       "      <td>9</td>\n",
       "      <td>3.0</td>\n",
       "      <td>2</td>\n",
       "      <td>2</td>\n",
       "      <td>9</td>\n",
       "      <td>5.0</td>\n",
       "      <td>5</td>\n",
       "      <td>8</td>\n",
       "      <td>2681</td>\n",
       "      <td>13</td>\n",
       "      <td>3</td>\n",
       "      <td>99</td>\n",
       "      <td>2972.0</td>\n",
       "      <td>6716720.0</td>\n",
       "      <td>500.0</td>\n",
       "      <td>2260.0</td>\n",
       "      <td>4</td>\n",
       "    </tr>\n",
       "    <tr>\n",
       "      <th>4</th>\n",
       "      <td>399</td>\n",
       "      <td>9</td>\n",
       "      <td>1</td>\n",
       "      <td>9</td>\n",
       "      <td>3.0</td>\n",
       "      <td>2</td>\n",
       "      <td>2</td>\n",
       "      <td>9</td>\n",
       "      <td>5.0</td>\n",
       "      <td>5</td>\n",
       "      <td>8</td>\n",
       "      <td>2450</td>\n",
       "      <td>13</td>\n",
       "      <td>1</td>\n",
       "      <td>2</td>\n",
       "      <td>10.0</td>\n",
       "      <td>464500.0</td>\n",
       "      <td>100.0</td>\n",
       "      <td>46450.0</td>\n",
       "      <td>1</td>\n",
       "    </tr>\n",
       "    <tr>\n",
       "      <th>...</th>\n",
       "      <td>...</td>\n",
       "      <td>...</td>\n",
       "      <td>...</td>\n",
       "      <td>...</td>\n",
       "      <td>...</td>\n",
       "      <td>...</td>\n",
       "      <td>...</td>\n",
       "      <td>...</td>\n",
       "      <td>...</td>\n",
       "      <td>...</td>\n",
       "      <td>...</td>\n",
       "      <td>...</td>\n",
       "      <td>...</td>\n",
       "      <td>...</td>\n",
       "      <td>...</td>\n",
       "      <td>...</td>\n",
       "      <td>...</td>\n",
       "      <td>...</td>\n",
       "      <td>...</td>\n",
       "      <td>...</td>\n",
       "    </tr>\n",
       "    <tr>\n",
       "      <th>70591</th>\n",
       "      <td>3310</td>\n",
       "      <td>23</td>\n",
       "      <td>1</td>\n",
       "      <td>6</td>\n",
       "      <td>NaN</td>\n",
       "      <td>5</td>\n",
       "      <td>2</td>\n",
       "      <td>5</td>\n",
       "      <td>3.0</td>\n",
       "      <td>5</td>\n",
       "      <td>2</td>\n",
       "      <td>1369</td>\n",
       "      <td>2</td>\n",
       "      <td>1</td>\n",
       "      <td>1</td>\n",
       "      <td>1.0</td>\n",
       "      <td>198500.0</td>\n",
       "      <td>500.0</td>\n",
       "      <td>198500.0</td>\n",
       "      <td>6</td>\n",
       "    </tr>\n",
       "    <tr>\n",
       "      <th>70592</th>\n",
       "      <td>3310</td>\n",
       "      <td>103</td>\n",
       "      <td>1</td>\n",
       "      <td>6</td>\n",
       "      <td>NaN</td>\n",
       "      <td>5</td>\n",
       "      <td>2</td>\n",
       "      <td>5</td>\n",
       "      <td>3.0</td>\n",
       "      <td>5</td>\n",
       "      <td>2</td>\n",
       "      <td>444</td>\n",
       "      <td>2</td>\n",
       "      <td>99</td>\n",
       "      <td>99</td>\n",
       "      <td>50.0</td>\n",
       "      <td>372000.0</td>\n",
       "      <td>5000.0</td>\n",
       "      <td>7440.0</td>\n",
       "      <td>9</td>\n",
       "    </tr>\n",
       "    <tr>\n",
       "      <th>70593</th>\n",
       "      <td>2678</td>\n",
       "      <td>858</td>\n",
       "      <td>1</td>\n",
       "      <td>4</td>\n",
       "      <td>4.0</td>\n",
       "      <td>2</td>\n",
       "      <td>2</td>\n",
       "      <td>3</td>\n",
       "      <td>4.0</td>\n",
       "      <td>3</td>\n",
       "      <td>8</td>\n",
       "      <td>1280</td>\n",
       "      <td>14</td>\n",
       "      <td>3</td>\n",
       "      <td>99</td>\n",
       "      <td>75057.0</td>\n",
       "      <td>3677793.0</td>\n",
       "      <td>100.0</td>\n",
       "      <td>49.0</td>\n",
       "      <td>1</td>\n",
       "    </tr>\n",
       "    <tr>\n",
       "      <th>70594</th>\n",
       "      <td>2678</td>\n",
       "      <td>11</td>\n",
       "      <td>1</td>\n",
       "      <td>4</td>\n",
       "      <td>4.0</td>\n",
       "      <td>2</td>\n",
       "      <td>2</td>\n",
       "      <td>3</td>\n",
       "      <td>4.0</td>\n",
       "      <td>3</td>\n",
       "      <td>8</td>\n",
       "      <td>2373</td>\n",
       "      <td>8</td>\n",
       "      <td>2</td>\n",
       "      <td>99</td>\n",
       "      <td>96.0</td>\n",
       "      <td>11424000.0</td>\n",
       "      <td>2500.0</td>\n",
       "      <td>119000.0</td>\n",
       "      <td>6</td>\n",
       "    </tr>\n",
       "    <tr>\n",
       "      <th>70595</th>\n",
       "      <td>2678</td>\n",
       "      <td>4</td>\n",
       "      <td>1</td>\n",
       "      <td>4</td>\n",
       "      <td>4.0</td>\n",
       "      <td>2</td>\n",
       "      <td>2</td>\n",
       "      <td>3</td>\n",
       "      <td>4.0</td>\n",
       "      <td>3</td>\n",
       "      <td>8</td>\n",
       "      <td>2371</td>\n",
       "      <td>8</td>\n",
       "      <td>2</td>\n",
       "      <td>1</td>\n",
       "      <td>50.0</td>\n",
       "      <td>11400000.0</td>\n",
       "      <td>2500.0</td>\n",
       "      <td>228000.0</td>\n",
       "      <td>26</td>\n",
       "    </tr>\n",
       "  </tbody>\n",
       "</table>\n",
       "<p>70596 rows × 20 columns</p>\n",
       "</div>"
      ],
      "text/plain": [
       "       act_id  hist_d  sex_dit_cd  cus_age_stn_cd  ivs_icn_cd  cus_aet_stn_cd  \\\n",
       "0         399     153           1               9         3.0               2   \n",
       "1         399     335           1               9         3.0               2   \n",
       "2         399     139           1               9         3.0               2   \n",
       "3         399     236           1               9         3.0               2   \n",
       "4         399       9           1               9         3.0               2   \n",
       "...       ...     ...         ...             ...         ...             ...   \n",
       "70591    3310      23           1               6         NaN               5   \n",
       "70592    3310     103           1               6         NaN               5   \n",
       "70593    2678     858           1               4         4.0               2   \n",
       "70594    2678      11           1               4         4.0               2   \n",
       "70595    2678       4           1               4         4.0               2   \n",
       "\n",
       "       mrz_pdt_tp_sgm_cd  lsg_sgm_cd  tco_cus_grd_cd  tot_ivs_te_sgm_cd  \\\n",
       "0                      2           9             5.0                  5   \n",
       "1                      2           9             5.0                  5   \n",
       "2                      2           9             5.0                  5   \n",
       "3                      2           9             5.0                  5   \n",
       "4                      2           9             5.0                  5   \n",
       "...                  ...         ...             ...                ...   \n",
       "70591                  2           5             3.0                  5   \n",
       "70592                  2           5             3.0                  5   \n",
       "70593                  2           3             4.0                  3   \n",
       "70594                  2           3             4.0                  3   \n",
       "70595                  2           3             4.0                  3   \n",
       "\n",
       "       mrz_btp_dit_cd  iem_krl_nm  btp_cfc_cd  mkt_pr_tal_scl_tp_cd  \\\n",
       "0                   8         418           4                     1   \n",
       "1                   8        2230          10                     3   \n",
       "2                   8        1515          13                     2   \n",
       "3                   8        2681          13                     3   \n",
       "4                   8        2450          13                     1   \n",
       "...               ...         ...         ...                   ...   \n",
       "70591               2        1369           2                     1   \n",
       "70592               2         444           2                    99   \n",
       "70593               8        1280          14                     3   \n",
       "70594               8        2373           8                     2   \n",
       "70595               8        2371           8                     2   \n",
       "\n",
       "       stk_dit_cd  bnc_qty  tot_aet_amt  stk_par_pr     stk_p  change  \n",
       "0               1    300.0    3945000.0      5000.0   13150.0       1  \n",
       "1              99    198.0    2524500.0       500.0   12750.0       2  \n",
       "2              99    138.0    4291800.0       500.0   31100.0       3  \n",
       "3              99   2972.0    6716720.0       500.0    2260.0       4  \n",
       "4               2     10.0     464500.0       100.0   46450.0       1  \n",
       "...           ...      ...          ...         ...       ...     ...  \n",
       "70591           1      1.0     198500.0       500.0  198500.0       6  \n",
       "70592          99     50.0     372000.0      5000.0    7440.0       9  \n",
       "70593          99  75057.0    3677793.0       100.0      49.0       1  \n",
       "70594          99     96.0   11424000.0      2500.0  119000.0       6  \n",
       "70595           1     50.0   11400000.0      2500.0  228000.0      26  \n",
       "\n",
       "[70596 rows x 20 columns]"
      ]
     },
     "execution_count": 211,
     "metadata": {},
     "output_type": "execute_result"
    }
   ],
   "source": [
    "test_data"
   ]
  },
  {
   "cell_type": "code",
   "execution_count": 166,
   "metadata": {},
   "outputs": [
    {
     "name": "stderr",
     "output_type": "stream",
     "text": [
      "C:\\anaconda3\\lib\\site-packages\\pandas\\core\\frame.py:4163: SettingWithCopyWarning: \n",
      "A value is trying to be set on a copy of a slice from a DataFrame\n",
      "\n",
      "See the caveats in the documentation: https://pandas.pydata.org/pandas-docs/stable/user_guide/indexing.html#returning-a-view-versus-a-copy\n",
      "  return super().drop(\n"
     ]
    }
   ],
   "source": [
    "train_label1 = train_data_t1[\"hold_d\"]\n",
    "train_data_t1.drop([\"hold_d\"], axis = 1, inplace = True)\n",
    "train_label2 = train_data_t2[\"hold_d\"]\n",
    "train_data_t2.drop([\"hold_d\"], axis = 1, inplace = True)\n",
    "train_label3 = train_data_t3[\"hold_d\"]\n",
    "train_data_t3.drop([\"hold_d\"], axis = 1, inplace = True)\n",
    "train_label4 = train_data_t4[\"hold_d\"]\n",
    "train_data_t4.drop([\"hold_d\"], axis = 1, inplace = True)\n",
    "train_label5 = train_data_t5[\"hold_d\"]\n",
    "train_data_t5.drop([\"hold_d\"], axis = 1, inplace = True)\n",
    "train_label6 = train_data_t6[\"hold_d\"]\n",
    "train_data_t6.drop([\"hold_d\"], axis = 1, inplace = True)\n"
   ]
  },
  {
   "cell_type": "code",
   "execution_count": 167,
   "metadata": {},
   "outputs": [],
   "source": [
    "\n",
    "val_label1 = train_data_v1[\"hold_d\"]\n",
    "train_data_v1.drop([\"hold_d\"], axis = 1, inplace = True)\n",
    "val_label2 = train_data_v2[\"hold_d\"]\n",
    "train_data_v2.drop([\"hold_d\"], axis = 1, inplace = True)\n",
    "val_label3 = train_data_v3[\"hold_d\"]\n",
    "train_data_v3.drop([\"hold_d\"], axis = 1, inplace = True)\n",
    "val_label4 = train_data_v4[\"hold_d\"]\n",
    "train_data_v4.drop([\"hold_d\"], axis = 1, inplace = True)\n",
    "val_label5 = train_data_v5[\"hold_d\"]\n",
    "train_data_v5.drop([\"hold_d\"], axis = 1, inplace = True)\n",
    "val_label6 = train_data_v6[\"hold_d\"]\n",
    "train_data_v6.drop([\"hold_d\"], axis = 1, inplace = True)\n"
   ]
  },
  {
   "cell_type": "code",
   "execution_count": 126,
   "metadata": {},
   "outputs": [],
   "source": [
    "for i in range (14398):\n",
    "    if train_data_t.loc[i,'hist_d'] < 50:\n",
    "        q= q +1\n",
    "    elif train_data_t.loc[i,'hist_d'] < 100:\n",
    "        w = w +1        \n",
    "    elif train_data_t.loc[i,'hist_d'] < 200:\n",
    "        e= e +1    \n",
    "    elif train_data_t.loc[i,'hist_d'] < 300:\n",
    "        r= r +1        \n",
    "    elif train_data_t.loc[i,'hist_d'] < 400:\n",
    "        k= k +1        \n",
    "    else:\n",
    "        j= j +1 \n",
    "        "
   ]
  },
  {
   "cell_type": "code",
   "execution_count": 213,
   "metadata": {},
   "outputs": [
    {
     "data": {
      "text/html": [
       "<div>\n",
       "<style scoped>\n",
       "    .dataframe tbody tr th:only-of-type {\n",
       "        vertical-align: middle;\n",
       "    }\n",
       "\n",
       "    .dataframe tbody tr th {\n",
       "        vertical-align: top;\n",
       "    }\n",
       "\n",
       "    .dataframe thead th {\n",
       "        text-align: right;\n",
       "    }\n",
       "</style>\n",
       "<table border=\"1\" class=\"dataframe\">\n",
       "  <thead>\n",
       "    <tr style=\"text-align: right;\">\n",
       "      <th></th>\n",
       "      <th>act_id</th>\n",
       "      <th>iem_cd</th>\n",
       "      <th>byn_dt</th>\n",
       "      <th>hist_d</th>\n",
       "      <th>submit_id</th>\n",
       "      <th>hold_d</th>\n",
       "    </tr>\n",
       "  </thead>\n",
       "  <tbody>\n",
       "    <tr>\n",
       "      <th>0</th>\n",
       "      <td>0ad104dbed99be0cd858aa772765ddedade554601a981b...</td>\n",
       "      <td>A032640</td>\n",
       "      <td>20200522</td>\n",
       "      <td>153</td>\n",
       "      <td>IDX00001</td>\n",
       "      <td>0</td>\n",
       "    </tr>\n",
       "    <tr>\n",
       "      <th>1</th>\n",
       "      <td>0ad104dbed99be0cd858aa772765ddedade554601a981b...</td>\n",
       "      <td>A160600</td>\n",
       "      <td>20190823</td>\n",
       "      <td>335</td>\n",
       "      <td>IDX00002</td>\n",
       "      <td>0</td>\n",
       "    </tr>\n",
       "    <tr>\n",
       "      <th>2</th>\n",
       "      <td>0ad104dbed99be0cd858aa772765ddedade554601a981b...</td>\n",
       "      <td>A234340</td>\n",
       "      <td>20200611</td>\n",
       "      <td>139</td>\n",
       "      <td>IDX00003</td>\n",
       "      <td>0</td>\n",
       "    </tr>\n",
       "    <tr>\n",
       "      <th>3</th>\n",
       "      <td>0ad104dbed99be0cd858aa772765ddedade554601a981b...</td>\n",
       "      <td>A131760</td>\n",
       "      <td>20200120</td>\n",
       "      <td>236</td>\n",
       "      <td>IDX00004</td>\n",
       "      <td>0</td>\n",
       "    </tr>\n",
       "    <tr>\n",
       "      <th>4</th>\n",
       "      <td>0ad104dbed99be0cd858aa772765ddedade554601a981b...</td>\n",
       "      <td>A293490</td>\n",
       "      <td>20201217</td>\n",
       "      <td>9</td>\n",
       "      <td>IDX00005</td>\n",
       "      <td>0</td>\n",
       "    </tr>\n",
       "    <tr>\n",
       "      <th>...</th>\n",
       "      <td>...</td>\n",
       "      <td>...</td>\n",
       "      <td>...</td>\n",
       "      <td>...</td>\n",
       "      <td>...</td>\n",
       "      <td>...</td>\n",
       "    </tr>\n",
       "    <tr>\n",
       "      <th>70591</th>\n",
       "      <td>564af3cf975ed4fa05148ada689d5002e9c2d43dee9481...</td>\n",
       "      <td>A000810</td>\n",
       "      <td>20201127</td>\n",
       "      <td>23</td>\n",
       "      <td>IDX70592</td>\n",
       "      <td>0</td>\n",
       "    </tr>\n",
       "    <tr>\n",
       "      <th>70592</th>\n",
       "      <td>564af3cf975ed4fa05148ada689d5002e9c2d43dee9481...</td>\n",
       "      <td>A005945</td>\n",
       "      <td>20200731</td>\n",
       "      <td>103</td>\n",
       "      <td>IDX70593</td>\n",
       "      <td>0</td>\n",
       "    </tr>\n",
       "    <tr>\n",
       "      <th>70593</th>\n",
       "      <td>4561928f2825f6389f228088ac807a9fb4575ffdcbc47a...</td>\n",
       "      <td>A004740</td>\n",
       "      <td>20170704</td>\n",
       "      <td>858</td>\n",
       "      <td>IDX70594</td>\n",
       "      <td>0</td>\n",
       "    </tr>\n",
       "    <tr>\n",
       "      <th>70594</th>\n",
       "      <td>4561928f2825f6389f228088ac807a9fb4575ffdcbc47a...</td>\n",
       "      <td>A001630</td>\n",
       "      <td>20201215</td>\n",
       "      <td>11</td>\n",
       "      <td>IDX70595</td>\n",
       "      <td>0</td>\n",
       "    </tr>\n",
       "    <tr>\n",
       "      <th>70595</th>\n",
       "      <td>4561928f2825f6389f228088ac807a9fb4575ffdcbc47a...</td>\n",
       "      <td>A185750</td>\n",
       "      <td>20201224</td>\n",
       "      <td>4</td>\n",
       "      <td>IDX70596</td>\n",
       "      <td>0</td>\n",
       "    </tr>\n",
       "  </tbody>\n",
       "</table>\n",
       "<p>70596 rows × 6 columns</p>\n",
       "</div>"
      ],
      "text/plain": [
       "                                                  act_id   iem_cd    byn_dt  \\\n",
       "0      0ad104dbed99be0cd858aa772765ddedade554601a981b...  A032640  20200522   \n",
       "1      0ad104dbed99be0cd858aa772765ddedade554601a981b...  A160600  20190823   \n",
       "2      0ad104dbed99be0cd858aa772765ddedade554601a981b...  A234340  20200611   \n",
       "3      0ad104dbed99be0cd858aa772765ddedade554601a981b...  A131760  20200120   \n",
       "4      0ad104dbed99be0cd858aa772765ddedade554601a981b...  A293490  20201217   \n",
       "...                                                  ...      ...       ...   \n",
       "70591  564af3cf975ed4fa05148ada689d5002e9c2d43dee9481...  A000810  20201127   \n",
       "70592  564af3cf975ed4fa05148ada689d5002e9c2d43dee9481...  A005945  20200731   \n",
       "70593  4561928f2825f6389f228088ac807a9fb4575ffdcbc47a...  A004740  20170704   \n",
       "70594  4561928f2825f6389f228088ac807a9fb4575ffdcbc47a...  A001630  20201215   \n",
       "70595  4561928f2825f6389f228088ac807a9fb4575ffdcbc47a...  A185750  20201224   \n",
       "\n",
       "       hist_d submit_id  hold_d  \n",
       "0         153  IDX00001       0  \n",
       "1         335  IDX00002       0  \n",
       "2         139  IDX00003       0  \n",
       "3         236  IDX00004       0  \n",
       "4           9  IDX00005       0  \n",
       "...       ...       ...     ...  \n",
       "70591      23  IDX70592       0  \n",
       "70592     103  IDX70593       0  \n",
       "70593     858  IDX70594       0  \n",
       "70594      11  IDX70595       0  \n",
       "70595       4  IDX70596       0  \n",
       "\n",
       "[70596 rows x 6 columns]"
      ]
     },
     "execution_count": 213,
     "metadata": {},
     "output_type": "execute_result"
    }
   ],
   "source": [
    "test = pd.read_csv(\"stk_hld_test.csv\")\n",
    "test"
   ]
  },
  {
   "cell_type": "code",
   "execution_count": 214,
   "metadata": {},
   "outputs": [],
   "source": [
    "test_data['submit_id'] = test['submit_id']"
   ]
  },
  {
   "cell_type": "code",
   "execution_count": 217,
   "metadata": {},
   "outputs": [],
   "source": [
    "test_data3 =test_data "
   ]
  },
  {
   "cell_type": "code",
   "execution_count": 99,
   "metadata": {
    "colab": {
     "base_uri": "https://localhost:8080/"
    },
    "executionInfo": {
     "elapsed": 2358917,
     "status": "ok",
     "timestamp": 1632557501605,
     "user": {
      "displayName": "잠자는사자",
      "photoUrl": "https://lh3.googleusercontent.com/a/default-user=s64",
      "userId": "18070241319002710526"
     },
     "user_tz": -540
    },
    "id": "RuyM_DxMHwlJ",
    "outputId": "f629b66a-13fd-4de4-8269-92f2fd58d12f",
    "scrolled": true
   },
   "outputs": [
    {
     "ename": "UnicodeEncodeError",
     "evalue": "'ascii' codec can't encode characters in position 18-20: ordinal not in range(128)",
     "output_type": "error",
     "traceback": [
      "\u001b[1;31m---------------------------------------------------------------------------\u001b[0m",
      "\u001b[1;31mUnicodeEncodeError\u001b[0m                        Traceback (most recent call last)",
      "\u001b[1;32m<ipython-input-99-9727d6c5e4f3>\u001b[0m in \u001b[0;36m<module>\u001b[1;34m\u001b[0m\n\u001b[0;32m     15\u001b[0m                            n_jobs=-1, verbose = False)\n\u001b[0;32m     16\u001b[0m \u001b[1;33m\u001b[0m\u001b[0m\n\u001b[1;32m---> 17\u001b[1;33m \u001b[0mgrid\u001b[0m\u001b[1;33m.\u001b[0m\u001b[0mfit\u001b[0m\u001b[1;33m(\u001b[0m\u001b[0mtrain_data1\u001b[0m\u001b[1;33m,\u001b[0m \u001b[0mtrain_label\u001b[0m\u001b[1;33m)\u001b[0m\u001b[1;33m\u001b[0m\u001b[1;33m\u001b[0m\u001b[0m\n\u001b[0m\u001b[0;32m     18\u001b[0m \u001b[1;31m#print(grid.best_params_)\u001b[0m\u001b[1;33m\u001b[0m\u001b[1;33m\u001b[0m\u001b[1;33m\u001b[0m\u001b[0m\n",
      "\u001b[1;32m~\\AppData\\Roaming\\Python\\Python38\\site-packages\\sklearn\\utils\\validation.py\u001b[0m in \u001b[0;36minner_f\u001b[1;34m(*args, **kwargs)\u001b[0m\n\u001b[0;32m     70\u001b[0m                           FutureWarning)\n\u001b[0;32m     71\u001b[0m         \u001b[0mkwargs\u001b[0m\u001b[1;33m.\u001b[0m\u001b[0mupdate\u001b[0m\u001b[1;33m(\u001b[0m\u001b[1;33m{\u001b[0m\u001b[0mk\u001b[0m\u001b[1;33m:\u001b[0m \u001b[0marg\u001b[0m \u001b[1;32mfor\u001b[0m \u001b[0mk\u001b[0m\u001b[1;33m,\u001b[0m \u001b[0marg\u001b[0m \u001b[1;32min\u001b[0m \u001b[0mzip\u001b[0m\u001b[1;33m(\u001b[0m\u001b[0msig\u001b[0m\u001b[1;33m.\u001b[0m\u001b[0mparameters\u001b[0m\u001b[1;33m,\u001b[0m \u001b[0margs\u001b[0m\u001b[1;33m)\u001b[0m\u001b[1;33m}\u001b[0m\u001b[1;33m)\u001b[0m\u001b[1;33m\u001b[0m\u001b[1;33m\u001b[0m\u001b[0m\n\u001b[1;32m---> 72\u001b[1;33m         \u001b[1;32mreturn\u001b[0m \u001b[0mf\u001b[0m\u001b[1;33m(\u001b[0m\u001b[1;33m**\u001b[0m\u001b[0mkwargs\u001b[0m\u001b[1;33m)\u001b[0m\u001b[1;33m\u001b[0m\u001b[1;33m\u001b[0m\u001b[0m\n\u001b[0m\u001b[0;32m     73\u001b[0m     \u001b[1;32mreturn\u001b[0m \u001b[0minner_f\u001b[0m\u001b[1;33m\u001b[0m\u001b[1;33m\u001b[0m\u001b[0m\n\u001b[0;32m     74\u001b[0m \u001b[1;33m\u001b[0m\u001b[0m\n",
      "\u001b[1;32m~\\AppData\\Roaming\\Python\\Python38\\site-packages\\sklearn\\model_selection\\_search.py\u001b[0m in \u001b[0;36mfit\u001b[1;34m(self, X, y, groups, **fit_params)\u001b[0m\n\u001b[0;32m    693\u001b[0m                                     verbose=self.verbose)\n\u001b[0;32m    694\u001b[0m         \u001b[0mresults\u001b[0m \u001b[1;33m=\u001b[0m \u001b[1;33m{\u001b[0m\u001b[1;33m}\u001b[0m\u001b[1;33m\u001b[0m\u001b[1;33m\u001b[0m\u001b[0m\n\u001b[1;32m--> 695\u001b[1;33m         \u001b[1;32mwith\u001b[0m \u001b[0mparallel\u001b[0m\u001b[1;33m:\u001b[0m\u001b[1;33m\u001b[0m\u001b[1;33m\u001b[0m\u001b[0m\n\u001b[0m\u001b[0;32m    696\u001b[0m             \u001b[0mall_candidate_params\u001b[0m \u001b[1;33m=\u001b[0m \u001b[1;33m[\u001b[0m\u001b[1;33m]\u001b[0m\u001b[1;33m\u001b[0m\u001b[1;33m\u001b[0m\u001b[0m\n\u001b[0;32m    697\u001b[0m             \u001b[0mall_out\u001b[0m \u001b[1;33m=\u001b[0m \u001b[1;33m[\u001b[0m\u001b[1;33m]\u001b[0m\u001b[1;33m\u001b[0m\u001b[1;33m\u001b[0m\u001b[0m\n",
      "\u001b[1;32mC:\\anaconda3\\lib\\site-packages\\joblib\\parallel.py\u001b[0m in \u001b[0;36m__enter__\u001b[1;34m(self)\u001b[0m\n\u001b[0;32m    728\u001b[0m     \u001b[1;32mdef\u001b[0m \u001b[0m__enter__\u001b[0m\u001b[1;33m(\u001b[0m\u001b[0mself\u001b[0m\u001b[1;33m)\u001b[0m\u001b[1;33m:\u001b[0m\u001b[1;33m\u001b[0m\u001b[1;33m\u001b[0m\u001b[0m\n\u001b[0;32m    729\u001b[0m         \u001b[0mself\u001b[0m\u001b[1;33m.\u001b[0m\u001b[0m_managed_backend\u001b[0m \u001b[1;33m=\u001b[0m \u001b[1;32mTrue\u001b[0m\u001b[1;33m\u001b[0m\u001b[1;33m\u001b[0m\u001b[0m\n\u001b[1;32m--> 730\u001b[1;33m         \u001b[0mself\u001b[0m\u001b[1;33m.\u001b[0m\u001b[0m_initialize_backend\u001b[0m\u001b[1;33m(\u001b[0m\u001b[1;33m)\u001b[0m\u001b[1;33m\u001b[0m\u001b[1;33m\u001b[0m\u001b[0m\n\u001b[0m\u001b[0;32m    731\u001b[0m         \u001b[1;32mreturn\u001b[0m \u001b[0mself\u001b[0m\u001b[1;33m\u001b[0m\u001b[1;33m\u001b[0m\u001b[0m\n\u001b[0;32m    732\u001b[0m \u001b[1;33m\u001b[0m\u001b[0m\n",
      "\u001b[1;32mC:\\anaconda3\\lib\\site-packages\\joblib\\parallel.py\u001b[0m in \u001b[0;36m_initialize_backend\u001b[1;34m(self)\u001b[0m\n\u001b[0;32m    738\u001b[0m         \u001b[1;34m\"\"\"Build a process or thread pool and return the number of workers\"\"\"\u001b[0m\u001b[1;33m\u001b[0m\u001b[1;33m\u001b[0m\u001b[0m\n\u001b[0;32m    739\u001b[0m         \u001b[1;32mtry\u001b[0m\u001b[1;33m:\u001b[0m\u001b[1;33m\u001b[0m\u001b[1;33m\u001b[0m\u001b[0m\n\u001b[1;32m--> 740\u001b[1;33m             n_jobs = self._backend.configure(n_jobs=self.n_jobs, parallel=self,\n\u001b[0m\u001b[0;32m    741\u001b[0m                                              **self._backend_args)\n\u001b[0;32m    742\u001b[0m             \u001b[1;32mif\u001b[0m \u001b[0mself\u001b[0m\u001b[1;33m.\u001b[0m\u001b[0mtimeout\u001b[0m \u001b[1;32mis\u001b[0m \u001b[1;32mnot\u001b[0m \u001b[1;32mNone\u001b[0m \u001b[1;32mand\u001b[0m \u001b[1;32mnot\u001b[0m \u001b[0mself\u001b[0m\u001b[1;33m.\u001b[0m\u001b[0m_backend\u001b[0m\u001b[1;33m.\u001b[0m\u001b[0msupports_timeout\u001b[0m\u001b[1;33m:\u001b[0m\u001b[1;33m\u001b[0m\u001b[1;33m\u001b[0m\u001b[0m\n",
      "\u001b[1;32mC:\\anaconda3\\lib\\site-packages\\joblib\\_parallel_backends.py\u001b[0m in \u001b[0;36mconfigure\u001b[1;34m(self, n_jobs, parallel, prefer, require, idle_worker_timeout, **memmappingexecutor_args)\u001b[0m\n\u001b[0;32m    492\u001b[0m                 SequentialBackend(nesting_level=self.nesting_level))\n\u001b[0;32m    493\u001b[0m \u001b[1;33m\u001b[0m\u001b[0m\n\u001b[1;32m--> 494\u001b[1;33m         self._workers = get_memmapping_executor(\n\u001b[0m\u001b[0;32m    495\u001b[0m             \u001b[0mn_jobs\u001b[0m\u001b[1;33m,\u001b[0m \u001b[0mtimeout\u001b[0m\u001b[1;33m=\u001b[0m\u001b[0midle_worker_timeout\u001b[0m\u001b[1;33m,\u001b[0m\u001b[1;33m\u001b[0m\u001b[1;33m\u001b[0m\u001b[0m\n\u001b[0;32m    496\u001b[0m             \u001b[0menv\u001b[0m\u001b[1;33m=\u001b[0m\u001b[0mself\u001b[0m\u001b[1;33m.\u001b[0m\u001b[0m_prepare_worker_env\u001b[0m\u001b[1;33m(\u001b[0m\u001b[0mn_jobs\u001b[0m\u001b[1;33m=\u001b[0m\u001b[0mn_jobs\u001b[0m\u001b[1;33m)\u001b[0m\u001b[1;33m,\u001b[0m\u001b[1;33m\u001b[0m\u001b[1;33m\u001b[0m\u001b[0m\n",
      "\u001b[1;32mC:\\anaconda3\\lib\\site-packages\\joblib\\executor.py\u001b[0m in \u001b[0;36mget_memmapping_executor\u001b[1;34m(n_jobs, **kwargs)\u001b[0m\n\u001b[0;32m     18\u001b[0m \u001b[1;33m\u001b[0m\u001b[0m\n\u001b[0;32m     19\u001b[0m \u001b[1;32mdef\u001b[0m \u001b[0mget_memmapping_executor\u001b[0m\u001b[1;33m(\u001b[0m\u001b[0mn_jobs\u001b[0m\u001b[1;33m,\u001b[0m \u001b[1;33m**\u001b[0m\u001b[0mkwargs\u001b[0m\u001b[1;33m)\u001b[0m\u001b[1;33m:\u001b[0m\u001b[1;33m\u001b[0m\u001b[1;33m\u001b[0m\u001b[0m\n\u001b[1;32m---> 20\u001b[1;33m     \u001b[1;32mreturn\u001b[0m \u001b[0mMemmappingExecutor\u001b[0m\u001b[1;33m.\u001b[0m\u001b[0mget_memmapping_executor\u001b[0m\u001b[1;33m(\u001b[0m\u001b[0mn_jobs\u001b[0m\u001b[1;33m,\u001b[0m \u001b[1;33m**\u001b[0m\u001b[0mkwargs\u001b[0m\u001b[1;33m)\u001b[0m\u001b[1;33m\u001b[0m\u001b[1;33m\u001b[0m\u001b[0m\n\u001b[0m\u001b[0;32m     21\u001b[0m \u001b[1;33m\u001b[0m\u001b[0m\n\u001b[0;32m     22\u001b[0m \u001b[1;33m\u001b[0m\u001b[0m\n",
      "\u001b[1;32mC:\\anaconda3\\lib\\site-packages\\joblib\\executor.py\u001b[0m in \u001b[0;36mget_memmapping_executor\u001b[1;34m(cls, n_jobs, timeout, initializer, initargs, env, temp_folder, context_id, **backend_args)\u001b[0m\n\u001b[0;32m     40\u001b[0m         \u001b[0m_executor_args\u001b[0m \u001b[1;33m=\u001b[0m \u001b[0mexecutor_args\u001b[0m\u001b[1;33m\u001b[0m\u001b[1;33m\u001b[0m\u001b[0m\n\u001b[0;32m     41\u001b[0m \u001b[1;33m\u001b[0m\u001b[0m\n\u001b[1;32m---> 42\u001b[1;33m         \u001b[0mmanager\u001b[0m \u001b[1;33m=\u001b[0m \u001b[0mTemporaryResourcesManager\u001b[0m\u001b[1;33m(\u001b[0m\u001b[0mtemp_folder\u001b[0m\u001b[1;33m)\u001b[0m\u001b[1;33m\u001b[0m\u001b[1;33m\u001b[0m\u001b[0m\n\u001b[0m\u001b[0;32m     43\u001b[0m \u001b[1;33m\u001b[0m\u001b[0m\n\u001b[0;32m     44\u001b[0m         \u001b[1;31m# reducers access the temporary folder in which to store temporary\u001b[0m\u001b[1;33m\u001b[0m\u001b[1;33m\u001b[0m\u001b[1;33m\u001b[0m\u001b[0m\n",
      "\u001b[1;32mC:\\anaconda3\\lib\\site-packages\\joblib\\_memmapping_reducer.py\u001b[0m in \u001b[0;36m__init__\u001b[1;34m(self, temp_folder_root, context_id)\u001b[0m\n\u001b[0;32m    529\u001b[0m             \u001b[1;31m# exposes exposes too many low-level details.\u001b[0m\u001b[1;33m\u001b[0m\u001b[1;33m\u001b[0m\u001b[1;33m\u001b[0m\u001b[0m\n\u001b[0;32m    530\u001b[0m             \u001b[0mcontext_id\u001b[0m \u001b[1;33m=\u001b[0m \u001b[0muuid4\u001b[0m\u001b[1;33m(\u001b[0m\u001b[1;33m)\u001b[0m\u001b[1;33m.\u001b[0m\u001b[0mhex\u001b[0m\u001b[1;33m\u001b[0m\u001b[1;33m\u001b[0m\u001b[0m\n\u001b[1;32m--> 531\u001b[1;33m         \u001b[0mself\u001b[0m\u001b[1;33m.\u001b[0m\u001b[0mset_current_context\u001b[0m\u001b[1;33m(\u001b[0m\u001b[0mcontext_id\u001b[0m\u001b[1;33m)\u001b[0m\u001b[1;33m\u001b[0m\u001b[1;33m\u001b[0m\u001b[0m\n\u001b[0m\u001b[0;32m    532\u001b[0m \u001b[1;33m\u001b[0m\u001b[0m\n\u001b[0;32m    533\u001b[0m     \u001b[1;32mdef\u001b[0m \u001b[0mset_current_context\u001b[0m\u001b[1;33m(\u001b[0m\u001b[0mself\u001b[0m\u001b[1;33m,\u001b[0m \u001b[0mcontext_id\u001b[0m\u001b[1;33m)\u001b[0m\u001b[1;33m:\u001b[0m\u001b[1;33m\u001b[0m\u001b[1;33m\u001b[0m\u001b[0m\n",
      "\u001b[1;32mC:\\anaconda3\\lib\\site-packages\\joblib\\_memmapping_reducer.py\u001b[0m in \u001b[0;36mset_current_context\u001b[1;34m(self, context_id)\u001b[0m\n\u001b[0;32m    533\u001b[0m     \u001b[1;32mdef\u001b[0m \u001b[0mset_current_context\u001b[0m\u001b[1;33m(\u001b[0m\u001b[0mself\u001b[0m\u001b[1;33m,\u001b[0m \u001b[0mcontext_id\u001b[0m\u001b[1;33m)\u001b[0m\u001b[1;33m:\u001b[0m\u001b[1;33m\u001b[0m\u001b[1;33m\u001b[0m\u001b[0m\n\u001b[0;32m    534\u001b[0m         \u001b[0mself\u001b[0m\u001b[1;33m.\u001b[0m\u001b[0m_current_context_id\u001b[0m \u001b[1;33m=\u001b[0m \u001b[0mcontext_id\u001b[0m\u001b[1;33m\u001b[0m\u001b[1;33m\u001b[0m\u001b[0m\n\u001b[1;32m--> 535\u001b[1;33m         \u001b[0mself\u001b[0m\u001b[1;33m.\u001b[0m\u001b[0mregister_new_context\u001b[0m\u001b[1;33m(\u001b[0m\u001b[0mcontext_id\u001b[0m\u001b[1;33m)\u001b[0m\u001b[1;33m\u001b[0m\u001b[1;33m\u001b[0m\u001b[0m\n\u001b[0m\u001b[0;32m    536\u001b[0m \u001b[1;33m\u001b[0m\u001b[0m\n\u001b[0;32m    537\u001b[0m     \u001b[1;32mdef\u001b[0m \u001b[0mregister_new_context\u001b[0m\u001b[1;33m(\u001b[0m\u001b[0mself\u001b[0m\u001b[1;33m,\u001b[0m \u001b[0mcontext_id\u001b[0m\u001b[1;33m)\u001b[0m\u001b[1;33m:\u001b[0m\u001b[1;33m\u001b[0m\u001b[1;33m\u001b[0m\u001b[0m\n",
      "\u001b[1;32mC:\\anaconda3\\lib\\site-packages\\joblib\\_memmapping_reducer.py\u001b[0m in \u001b[0;36mregister_new_context\u001b[1;34m(self, context_id)\u001b[0m\n\u001b[0;32m    558\u001b[0m                 \u001b[0mnew_folder_name\u001b[0m\u001b[1;33m,\u001b[0m \u001b[0mself\u001b[0m\u001b[1;33m.\u001b[0m\u001b[0m_temp_folder_root\u001b[0m\u001b[1;33m\u001b[0m\u001b[1;33m\u001b[0m\u001b[0m\n\u001b[0;32m    559\u001b[0m             )\n\u001b[1;32m--> 560\u001b[1;33m             \u001b[0mself\u001b[0m\u001b[1;33m.\u001b[0m\u001b[0mregister_folder_finalizer\u001b[0m\u001b[1;33m(\u001b[0m\u001b[0mnew_folder_path\u001b[0m\u001b[1;33m,\u001b[0m \u001b[0mcontext_id\u001b[0m\u001b[1;33m)\u001b[0m\u001b[1;33m\u001b[0m\u001b[1;33m\u001b[0m\u001b[0m\n\u001b[0m\u001b[0;32m    561\u001b[0m             \u001b[0mself\u001b[0m\u001b[1;33m.\u001b[0m\u001b[0m_cached_temp_folders\u001b[0m\u001b[1;33m[\u001b[0m\u001b[0mcontext_id\u001b[0m\u001b[1;33m]\u001b[0m \u001b[1;33m=\u001b[0m \u001b[0mnew_folder_path\u001b[0m\u001b[1;33m\u001b[0m\u001b[1;33m\u001b[0m\u001b[0m\n\u001b[0;32m    562\u001b[0m \u001b[1;33m\u001b[0m\u001b[0m\n",
      "\u001b[1;32mC:\\anaconda3\\lib\\site-packages\\joblib\\_memmapping_reducer.py\u001b[0m in \u001b[0;36mregister_folder_finalizer\u001b[1;34m(self, pool_subfolder, context_id)\u001b[0m\n\u001b[0;32m    588\u001b[0m         \u001b[1;31m# semaphores and pipes\u001b[0m\u001b[1;33m\u001b[0m\u001b[1;33m\u001b[0m\u001b[1;33m\u001b[0m\u001b[0m\n\u001b[0;32m    589\u001b[0m         \u001b[0mpool_module_name\u001b[0m \u001b[1;33m=\u001b[0m \u001b[0mwhichmodule\u001b[0m\u001b[1;33m(\u001b[0m\u001b[0mdelete_folder\u001b[0m\u001b[1;33m,\u001b[0m \u001b[1;34m'delete_folder'\u001b[0m\u001b[1;33m)\u001b[0m\u001b[1;33m\u001b[0m\u001b[1;33m\u001b[0m\u001b[0m\n\u001b[1;32m--> 590\u001b[1;33m         \u001b[0mresource_tracker\u001b[0m\u001b[1;33m.\u001b[0m\u001b[0mregister\u001b[0m\u001b[1;33m(\u001b[0m\u001b[0mpool_subfolder\u001b[0m\u001b[1;33m,\u001b[0m \u001b[1;34m\"folder\"\u001b[0m\u001b[1;33m)\u001b[0m\u001b[1;33m\u001b[0m\u001b[1;33m\u001b[0m\u001b[0m\n\u001b[0m\u001b[0;32m    591\u001b[0m \u001b[1;33m\u001b[0m\u001b[0m\n\u001b[0;32m    592\u001b[0m         \u001b[1;32mdef\u001b[0m \u001b[0m_cleanup\u001b[0m\u001b[1;33m(\u001b[0m\u001b[1;33m)\u001b[0m\u001b[1;33m:\u001b[0m\u001b[1;33m\u001b[0m\u001b[1;33m\u001b[0m\u001b[0m\n",
      "\u001b[1;32mC:\\anaconda3\\lib\\site-packages\\joblib\\externals\\loky\\backend\\resource_tracker.py\u001b[0m in \u001b[0;36mregister\u001b[1;34m(self, name, rtype)\u001b[0m\n\u001b[0;32m    189\u001b[0m         \u001b[1;34m'''Register a named resource, and increment its refcount.'''\u001b[0m\u001b[1;33m\u001b[0m\u001b[1;33m\u001b[0m\u001b[0m\n\u001b[0;32m    190\u001b[0m         \u001b[0mself\u001b[0m\u001b[1;33m.\u001b[0m\u001b[0mensure_running\u001b[0m\u001b[1;33m(\u001b[0m\u001b[1;33m)\u001b[0m\u001b[1;33m\u001b[0m\u001b[1;33m\u001b[0m\u001b[0m\n\u001b[1;32m--> 191\u001b[1;33m         \u001b[0mself\u001b[0m\u001b[1;33m.\u001b[0m\u001b[0m_send\u001b[0m\u001b[1;33m(\u001b[0m\u001b[1;34m'REGISTER'\u001b[0m\u001b[1;33m,\u001b[0m \u001b[0mname\u001b[0m\u001b[1;33m,\u001b[0m \u001b[0mrtype\u001b[0m\u001b[1;33m)\u001b[0m\u001b[1;33m\u001b[0m\u001b[1;33m\u001b[0m\u001b[0m\n\u001b[0m\u001b[0;32m    192\u001b[0m \u001b[1;33m\u001b[0m\u001b[0m\n\u001b[0;32m    193\u001b[0m     \u001b[1;32mdef\u001b[0m \u001b[0munregister\u001b[0m\u001b[1;33m(\u001b[0m\u001b[0mself\u001b[0m\u001b[1;33m,\u001b[0m \u001b[0mname\u001b[0m\u001b[1;33m,\u001b[0m \u001b[0mrtype\u001b[0m\u001b[1;33m)\u001b[0m\u001b[1;33m:\u001b[0m\u001b[1;33m\u001b[0m\u001b[1;33m\u001b[0m\u001b[0m\n",
      "\u001b[1;32mC:\\anaconda3\\lib\\site-packages\\joblib\\externals\\loky\\backend\\resource_tracker.py\u001b[0m in \u001b[0;36m_send\u001b[1;34m(self, cmd, name, rtype)\u001b[0m\n\u001b[0;32m    202\u001b[0m \u001b[1;33m\u001b[0m\u001b[0m\n\u001b[0;32m    203\u001b[0m     \u001b[1;32mdef\u001b[0m \u001b[0m_send\u001b[0m\u001b[1;33m(\u001b[0m\u001b[0mself\u001b[0m\u001b[1;33m,\u001b[0m \u001b[0mcmd\u001b[0m\u001b[1;33m,\u001b[0m \u001b[0mname\u001b[0m\u001b[1;33m,\u001b[0m \u001b[0mrtype\u001b[0m\u001b[1;33m)\u001b[0m\u001b[1;33m:\u001b[0m\u001b[1;33m\u001b[0m\u001b[1;33m\u001b[0m\u001b[0m\n\u001b[1;32m--> 204\u001b[1;33m         \u001b[0mmsg\u001b[0m \u001b[1;33m=\u001b[0m \u001b[1;34m'{0}:{1}:{2}\\n'\u001b[0m\u001b[1;33m.\u001b[0m\u001b[0mformat\u001b[0m\u001b[1;33m(\u001b[0m\u001b[0mcmd\u001b[0m\u001b[1;33m,\u001b[0m \u001b[0mname\u001b[0m\u001b[1;33m,\u001b[0m \u001b[0mrtype\u001b[0m\u001b[1;33m)\u001b[0m\u001b[1;33m.\u001b[0m\u001b[0mencode\u001b[0m\u001b[1;33m(\u001b[0m\u001b[1;34m'ascii'\u001b[0m\u001b[1;33m)\u001b[0m\u001b[1;33m\u001b[0m\u001b[1;33m\u001b[0m\u001b[0m\n\u001b[0m\u001b[0;32m    205\u001b[0m         \u001b[1;32mif\u001b[0m \u001b[0mlen\u001b[0m\u001b[1;33m(\u001b[0m\u001b[0mname\u001b[0m\u001b[1;33m)\u001b[0m \u001b[1;33m>\u001b[0m \u001b[1;36m512\u001b[0m\u001b[1;33m:\u001b[0m\u001b[1;33m\u001b[0m\u001b[1;33m\u001b[0m\u001b[0m\n\u001b[0;32m    206\u001b[0m             \u001b[1;31m# posix guarantees that writes to a pipe of less than PIPE_BUF\u001b[0m\u001b[1;33m\u001b[0m\u001b[1;33m\u001b[0m\u001b[1;33m\u001b[0m\u001b[0m\n",
      "\u001b[1;31mUnicodeEncodeError\u001b[0m: 'ascii' codec can't encode characters in position 18-20: ordinal not in range(128)"
     ]
    }
   ],
   "source": [
    "from sklearn.model_selection import GridSearchCV\n",
    "import xgboost as xgb\n",
    "from xgboost import XGBRegressor\n",
    "\n",
    "train_data1 = train_data[train_data.columns.difference(['tco_cus_grd_cd','ivs_icn_cd'])]\n",
    "param = {\n",
    "    'max_depth':[2,3,4],\n",
    "    'n_estimators':range(300,600,100), #  'n_estimators':range(600,700,50) 여기에 cv 10 (이거와 별반차이가 없다.)\n",
    "    'colsample_bytree':[0.5,0.7,1],\n",
    "    'colsample_bylevel':[0.5,0.7,1],\n",
    "}\n",
    "model = xgb.XGBRegressor()\n",
    "grid = GridSearchCV(estimator=model, param_grid=param, cv=10, \n",
    "                           scoring='neg_mean_squared_error',\n",
    "                           n_jobs=-1, verbose = False)\n",
    "\n",
    "grid.fit(train_data1, train_label)\n",
    "#print(grid.best_params_)\n"
   ]
  },
  {
   "cell_type": "code",
   "execution_count": null,
   "metadata": {
    "colab": {
     "base_uri": "https://localhost:8080/"
    },
    "executionInfo": {
     "elapsed": 6,
     "status": "ok",
     "timestamp": 1632557503421,
     "user": {
      "displayName": "잠자는사자",
      "photoUrl": "https://lh3.googleusercontent.com/a/default-user=s64",
      "userId": "18070241319002710526"
     },
     "user_tz": -540
    },
    "id": "uGzrL-PIHwlK",
    "outputId": "8042d001-a06b-40cc-c4d7-ea3c0ea7d618"
   },
   "outputs": [
    {
     "name": "stdout",
     "output_type": "stream",
     "text": [
      "{'colsample_bylevel': 1, 'colsample_bytree': 1, 'max_depth': 3, 'n_estimators': 300}\n"
     ]
    }
   ],
   "source": [
    "print(grid_search.best_params_)"
   ]
  },
  {
   "cell_type": "code",
   "execution_count": null,
   "metadata": {
    "colab": {
     "base_uri": "https://localhost:8080/"
    },
    "executionInfo": {
     "elapsed": 308,
     "status": "ok",
     "timestamp": 1632560314930,
     "user": {
      "displayName": "잠자는사자",
      "photoUrl": "https://lh3.googleusercontent.com/a/default-user=s64",
      "userId": "18070241319002710526"
     },
     "user_tz": -540
    },
    "id": "1K1BhfzaHwlK",
    "outputId": "dba39eac-482e-42dc-834e-9adfb5e9f433"
   },
   "outputs": [
    {
     "data": {
      "text/plain": [
       "XGBRegressor(base_score=0.5, booster='gbtree', colsample_bylevel=1,\n",
       "             colsample_bynode=1, colsample_bytree=1, gamma=0,\n",
       "             importance_type='gain', learning_rate=0.1, max_delta_step=0,\n",
       "             max_depth=3, min_child_weight=1, missing=None, n_estimators=300,\n",
       "             n_jobs=1, nthread=None, objective='reg:linear', random_state=0,\n",
       "             reg_alpha=0, reg_lambda=1, scale_pos_weight=1, seed=None,\n",
       "             silent=None, subsample=1, verbosity=1)"
      ]
     },
     "execution_count": 58,
     "metadata": {},
     "output_type": "execute_result"
    }
   ],
   "source": [
    "grid_search.best_estimator_"
   ]
  },
  {
   "cell_type": "code",
   "execution_count": 31,
   "metadata": {
    "colab": {
     "base_uri": "https://localhost:8080/"
    },
    "executionInfo": {
     "elapsed": 3223,
     "status": "ok",
     "timestamp": 1632666616777,
     "user": {
      "displayName": "잠자는사자",
      "photoUrl": "https://lh3.googleusercontent.com/a/default-user=s64",
      "userId": "18070241319002710526"
     },
     "user_tz": -540
    },
    "id": "X8-_9CRpOveX",
    "outputId": "b074f0b3-e1a9-4c39-df50-134f90110333"
   },
   "outputs": [
    {
     "name": "stdout",
     "output_type": "stream",
     "text": [
      "[17:31:48] WARNING: C:/Users/Administrator/workspace/xgboost-win64_release_1.4.0/src/objective/regression_obj.cu:171: reg:linear is now deprecated in favor of reg:squarederror.\n"
     ]
    },
    {
     "data": {
      "text/plain": [
       "XGBRegressor(base_score=0.5, booster='gbtree', colsample_bylevel=1,\n",
       "             colsample_bynode=1, colsample_bytree=1, gamma=0, gpu_id=-1,\n",
       "             importance_type='gain', interaction_constraints='',\n",
       "             learning_rate=0.1, max_delta_step=0, max_depth=3,\n",
       "             min_child_weight=1, missing=-1, monotone_constraints='()',\n",
       "             n_estimators=300, n_jobs=1, nthread=1, num_parallel_tree=1,\n",
       "             objective='reg:linear', random_state=0, reg_alpha=0, reg_lambda=1,\n",
       "             scale_pos_weight=1, seed=0, silent=None, subsample=1,\n",
       "             tree_method='exact', validate_parameters=1, verbosity=1)"
      ]
     },
     "execution_count": 31,
     "metadata": {},
     "output_type": "execute_result"
    }
   ],
   "source": [
    "from sklearn.model_selection import GridSearchCV\n",
    "import xgboost as xgb\n",
    "from xgboost import XGBRegressor\n",
    "\n",
    "train_data1 = train_data[train_data.columns.difference(['sex_dit_cd', 'cus_aet_stn_cd', 'tco_cus_grd_cd', 'bnc_qty', 'tot_aet_amt', 'ivs_icn_cd'])]\n",
    "\n",
    "\n",
    "grid_search = XGBRegressor(base_score=0.5, booster='gbtree', colsample_bylevel=1,\n",
    "             colsample_bynode=1, colsample_bytree=1, gamma=0,\n",
    "             importance_type='gain', learning_rate=0.1, max_delta_step=0,\n",
    "             max_depth=3, min_child_weight=1, missing=-1, n_estimators=300,\n",
    "             n_jobs=1, nthread=None, objective='reg:linear', random_state=0,\n",
    "             reg_alpha=0, reg_lambda=1, scale_pos_weight=1, seed=None,\n",
    "             silent=None, subsample=1, verbosity=1)\n",
    "\n",
    "\n",
    "grid_search.fit(train_data1, train_label)\n",
    "\n"
   ]
  },
  {
   "cell_type": "code",
   "execution_count": null,
   "metadata": {},
   "outputs": [],
   "source": []
  },
  {
   "cell_type": "code",
   "execution_count": 343,
   "metadata": {
    "executionInfo": {
     "elapsed": 1104,
     "status": "ok",
     "timestamp": 1632666826586,
     "user": {
      "displayName": "잠자는사자",
      "photoUrl": "https://lh3.googleusercontent.com/a/default-user=s64",
      "userId": "18070241319002710526"
     },
     "user_tz": -540
    },
    "id": "uV8nd_z_3-rc"
   },
   "outputs": [
    {
     "name": "stderr",
     "output_type": "stream",
     "text": [
      "<ipython-input-343-75cc21b46bb2>:3: SettingWithCopyWarning: \n",
      "A value is trying to be set on a copy of a slice from a DataFrame.\n",
      "Try using .loc[row_indexer,col_indexer] = value instead\n",
      "\n",
      "See the caveats in the documentation: https://pandas.pydata.org/pandas-docs/stable/user_guide/indexing.html#returning-a-view-versus-a-copy\n",
      "  submission[\"hold_d\"] = np.round(submission[\"hold_d\"])\n"
     ]
    }
   ],
   "source": [
    "test_data1 = test_data[['hist_d', 'act_id','tot_ivs_te_sgm_cd','cus_aet_stn_cd']]\n",
    "y_pred = cb_model.predict(test_data1)\n",
    "submission[\"hold_d\"] = np.round(y_pred)"
   ]
  },
  {
   "cell_type": "code",
   "execution_count": 396,
   "metadata": {},
   "outputs": [
    {
     "data": {
      "text/html": [
       "<div>\n",
       "<style scoped>\n",
       "    .dataframe tbody tr th:only-of-type {\n",
       "        vertical-align: middle;\n",
       "    }\n",
       "\n",
       "    .dataframe tbody tr th {\n",
       "        vertical-align: top;\n",
       "    }\n",
       "\n",
       "    .dataframe thead th {\n",
       "        text-align: right;\n",
       "    }\n",
       "</style>\n",
       "<table border=\"1\" class=\"dataframe\">\n",
       "  <thead>\n",
       "    <tr style=\"text-align: right;\">\n",
       "      <th></th>\n",
       "      <th>submit_id</th>\n",
       "      <th>hold_d</th>\n",
       "    </tr>\n",
       "  </thead>\n",
       "  <tbody>\n",
       "    <tr>\n",
       "      <th>0</th>\n",
       "      <td>IDX00001</td>\n",
       "      <td>221.0</td>\n",
       "    </tr>\n",
       "    <tr>\n",
       "      <th>1</th>\n",
       "      <td>IDX00002</td>\n",
       "      <td>400.0</td>\n",
       "    </tr>\n",
       "    <tr>\n",
       "      <th>2</th>\n",
       "      <td>IDX00003</td>\n",
       "      <td>219.0</td>\n",
       "    </tr>\n",
       "    <tr>\n",
       "      <th>3</th>\n",
       "      <td>IDX00004</td>\n",
       "      <td>278.0</td>\n",
       "    </tr>\n",
       "    <tr>\n",
       "      <th>4</th>\n",
       "      <td>IDX00005</td>\n",
       "      <td>29.0</td>\n",
       "    </tr>\n",
       "    <tr>\n",
       "      <th>...</th>\n",
       "      <td>...</td>\n",
       "      <td>...</td>\n",
       "    </tr>\n",
       "    <tr>\n",
       "      <th>70591</th>\n",
       "      <td>IDX70592</td>\n",
       "      <td>58.0</td>\n",
       "    </tr>\n",
       "    <tr>\n",
       "      <th>70592</th>\n",
       "      <td>IDX70593</td>\n",
       "      <td>161.0</td>\n",
       "    </tr>\n",
       "    <tr>\n",
       "      <th>70593</th>\n",
       "      <td>IDX70594</td>\n",
       "      <td>1073.0</td>\n",
       "    </tr>\n",
       "    <tr>\n",
       "      <th>70594</th>\n",
       "      <td>IDX70595</td>\n",
       "      <td>39.0</td>\n",
       "    </tr>\n",
       "    <tr>\n",
       "      <th>70595</th>\n",
       "      <td>IDX70596</td>\n",
       "      <td>17.0</td>\n",
       "    </tr>\n",
       "  </tbody>\n",
       "</table>\n",
       "<p>70596 rows × 2 columns</p>\n",
       "</div>"
      ],
      "text/plain": [
       "      submit_id  hold_d\n",
       "0      IDX00001   221.0\n",
       "1      IDX00002   400.0\n",
       "2      IDX00003   219.0\n",
       "3      IDX00004   278.0\n",
       "4      IDX00005    29.0\n",
       "...         ...     ...\n",
       "70591  IDX70592    58.0\n",
       "70592  IDX70593   161.0\n",
       "70593  IDX70594  1073.0\n",
       "70594  IDX70595    39.0\n",
       "70595  IDX70596    17.0\n",
       "\n",
       "[70596 rows x 2 columns]"
      ]
     },
     "execution_count": 396,
     "metadata": {},
     "output_type": "execute_result"
    }
   ],
   "source": []
  },
  {
   "cell_type": "code",
   "execution_count": null,
   "metadata": {},
   "outputs": [],
   "source": []
  },
  {
   "cell_type": "code",
   "execution_count": null,
   "metadata": {},
   "outputs": [],
   "source": []
  },
  {
   "cell_type": "code",
   "execution_count": 96,
   "metadata": {
    "executionInfo": {
     "elapsed": 314,
     "status": "ok",
     "timestamp": 1632668367576,
     "user": {
      "displayName": "잠자는사자",
      "photoUrl": "https://lh3.googleusercontent.com/a/default-user=s64",
      "userId": "18070241319002710526"
     },
     "user_tz": -540
    },
    "id": "uMTQlID6_zRb"
   },
   "outputs": [],
   "source": [
    "test_data1 = test_data1.assign(hold=y_pred)"
   ]
  },
  {
   "cell_type": "code",
   "execution_count": 97,
   "metadata": {
    "executionInfo": {
     "elapsed": 2,
     "status": "ok",
     "timestamp": 1632668369063,
     "user": {
      "displayName": "잠자는사자",
      "photoUrl": "https://lh3.googleusercontent.com/a/default-user=s64",
      "userId": "18070241319002710526"
     },
     "user_tz": -540
    },
    "id": "RQBTYFfeB034"
   },
   "outputs": [],
   "source": [
    "test_data1['hold'] = test_data1['hold']*1.1"
   ]
  },
  {
   "cell_type": "code",
   "execution_count": 98,
   "metadata": {
    "executionInfo": {
     "elapsed": 2,
     "status": "ok",
     "timestamp": 1632668370330,
     "user": {
      "displayName": "잠자는사자",
      "photoUrl": "https://lh3.googleusercontent.com/a/default-user=s64",
      "userId": "18070241319002710526"
     },
     "user_tz": -540
    },
    "id": "mrin6q2UCx1g"
   },
   "outputs": [],
   "source": [
    "def plus10(x):\n",
    "    if (x[\"hold\"] - x[\"hist_d\"]) >= 146:\n",
    "        return x[\"hist_d\"] + 146\n",
    "    else:\n",
    "        return x[\"hold\"]"
   ]
  },
  {
   "cell_type": "code",
   "execution_count": 99,
   "metadata": {
    "executionInfo": {
     "elapsed": 1678,
     "status": "ok",
     "timestamp": 1632668373387,
     "user": {
      "displayName": "잠자는사자",
      "photoUrl": "https://lh3.googleusercontent.com/a/default-user=s64",
      "userId": "18070241319002710526"
     },
     "user_tz": -540
    },
    "id": "_nWErIGvCsQY"
   },
   "outputs": [],
   "source": [
    "test_data1[\"hold\"] = test_data1.apply(plus10, axis =1)"
   ]
  },
  {
   "cell_type": "code",
   "execution_count": 100,
   "metadata": {
    "colab": {
     "base_uri": "https://localhost:8080/"
    },
    "executionInfo": {
     "elapsed": 5,
     "status": "ok",
     "timestamp": 1632668253890,
     "user": {
      "displayName": "잠자는사자",
      "photoUrl": "https://lh3.googleusercontent.com/a/default-user=s64",
      "userId": "18070241319002710526"
     },
     "user_tz": -540
    },
    "id": "wXgfmNaDDz4P",
    "outputId": "4ba09a1c-2e5a-4a85-98a8-f0e8f3d7e42a"
   },
   "outputs": [
    {
     "name": "stdout",
     "output_type": "stream",
     "text": [
      "0        220.550897\n",
      "1        404.860491\n",
      "2        201.474165\n",
      "3        296.679839\n",
      "4         37.308797\n",
      "            ...    \n",
      "70591     61.840997\n",
      "70592    160.144669\n",
      "70593    620.347964\n",
      "70594     40.974382\n",
      "70595     28.652606\n",
      "Name: hold, Length: 70596, dtype: float64\n"
     ]
    }
   ],
   "source": [
    "print(test_data1[\"hold\"])"
   ]
  },
  {
   "cell_type": "code",
   "execution_count": 101,
   "metadata": {
    "executionInfo": {
     "elapsed": 305,
     "status": "ok",
     "timestamp": 1632668376095,
     "user": {
      "displayName": "잠자는사자",
      "photoUrl": "https://lh3.googleusercontent.com/a/default-user=s64",
      "userId": "18070241319002710526"
     },
     "user_tz": -540
    },
    "id": "KSOl88TmGu9r"
   },
   "outputs": [],
   "source": [
    "submission[\"hold_d\"] = np.round(test_data1[\"hold\"])"
   ]
  },
  {
   "cell_type": "code",
   "execution_count": null,
   "metadata": {
    "colab": {
     "base_uri": "https://localhost:8080/",
     "height": 227
    },
    "executionInfo": {
     "elapsed": 4,
     "status": "error",
     "timestamp": 1632571977660,
     "user": {
      "displayName": "잠자는사자",
      "photoUrl": "https://lh3.googleusercontent.com/a/default-user=s64",
      "userId": "18070241319002710526"
     },
     "user_tz": -540
    },
    "id": "I-LgAewoHwlK",
    "outputId": "705f00d3-f275-4ccc-809a-9ae2e0ab8705"
   },
   "outputs": [
    {
     "ename": "NameError",
     "evalue": "ignored",
     "output_type": "error",
     "traceback": [
      "\u001b[0;31m---------------------------------------------------------------------------\u001b[0m",
      "\u001b[0;31mNameError\u001b[0m                                 Traceback (most recent call last)",
      "\u001b[0;32m<ipython-input-49-9838d51d2d47>\u001b[0m in \u001b[0;36m<module>\u001b[0;34m()\u001b[0m\n\u001b[1;32m      1\u001b[0m \u001b[0mresult\u001b[0m \u001b[0;34m=\u001b[0m \u001b[0;34m[\u001b[0m\u001b[0;34m]\u001b[0m \u001b[0;31m#k fold\u001b[0m\u001b[0;34m\u001b[0m\u001b[0;34m\u001b[0m\u001b[0m\n\u001b[0;32m----> 2\u001b[0;31m \u001b[0;32mfor\u001b[0m \u001b[0mi\u001b[0m \u001b[0;32min\u001b[0m \u001b[0mmodels\u001b[0m\u001b[0;34m:\u001b[0m\u001b[0;34m\u001b[0m\u001b[0;34m\u001b[0m\u001b[0m\n\u001b[0m\u001b[1;32m      3\u001b[0m     \u001b[0mresult\u001b[0m\u001b[0;34m.\u001b[0m\u001b[0mappend\u001b[0m\u001b[0;34m(\u001b[0m\u001b[0mi\u001b[0m\u001b[0;34m.\u001b[0m\u001b[0mpredict\u001b[0m\u001b[0;34m(\u001b[0m\u001b[0mtest_data\u001b[0m\u001b[0;34m)\u001b[0m\u001b[0;34m)\u001b[0m\u001b[0;34m\u001b[0m\u001b[0;34m\u001b[0m\u001b[0m\n\u001b[1;32m      4\u001b[0m \u001b[0mpredict\u001b[0m \u001b[0;34m=\u001b[0m \u001b[0mnp\u001b[0m\u001b[0;34m.\u001b[0m\u001b[0mmean\u001b[0m\u001b[0;34m(\u001b[0m\u001b[0mresult\u001b[0m\u001b[0;34m,\u001b[0m \u001b[0maxis\u001b[0m \u001b[0;34m=\u001b[0m \u001b[0;36m0\u001b[0m\u001b[0;34m)\u001b[0m\u001b[0;34m\u001b[0m\u001b[0;34m\u001b[0m\u001b[0m\n",
      "\u001b[0;31mNameError\u001b[0m: name 'models' is not defined"
     ]
    }
   ],
   "source": [
    "result = [] #k fold\n",
    "for i in models:\n",
    "    result.append(i.predict(test_data))\n",
    "predict = np.mean(result, axis = 0)"
   ]
  },
  {
   "cell_type": "code",
   "execution_count": 70,
   "metadata": {
    "id": "GmX9lOAOHwlL"
   },
   "outputs": [
    {
     "ename": "NameError",
     "evalue": "name 'predict' is not defined",
     "output_type": "error",
     "traceback": [
      "\u001b[1;31m---------------------------------------------------------------------------\u001b[0m",
      "\u001b[1;31mNameError\u001b[0m                                 Traceback (most recent call last)",
      "\u001b[1;32m<ipython-input-70-dc979efe0559>\u001b[0m in \u001b[0;36m<module>\u001b[1;34m\u001b[0m\n\u001b[1;32m----> 1\u001b[1;33m \u001b[0msubmission\u001b[0m\u001b[1;33m[\u001b[0m\u001b[1;34m\"hold_d\"\u001b[0m\u001b[1;33m]\u001b[0m \u001b[1;33m=\u001b[0m \u001b[0mnp\u001b[0m\u001b[1;33m.\u001b[0m\u001b[0mround\u001b[0m\u001b[1;33m(\u001b[0m\u001b[0mpredict\u001b[0m\u001b[1;33m)\u001b[0m\u001b[1;33m\u001b[0m\u001b[1;33m\u001b[0m\u001b[0m\n\u001b[0m",
      "\u001b[1;31mNameError\u001b[0m: name 'predict' is not defined"
     ]
    }
   ],
   "source": [
    "submission[\"hold_d\"] = np.round(predict)"
   ]
  },
  {
   "cell_type": "code",
   "execution_count": null,
   "metadata": {
    "id": "KTdpukP1HwlL"
   },
   "outputs": [],
   "source": [
    "#공통"
   ]
  },
  {
   "cell_type": "code",
   "execution_count": 408,
   "metadata": {
    "executionInfo": {
     "elapsed": 299,
     "status": "ok",
     "timestamp": 1632668382763,
     "user": {
      "displayName": "잠자는사자",
      "photoUrl": "https://lh3.googleusercontent.com/a/default-user=s64",
      "userId": "18070241319002710526"
     },
     "user_tz": -540
    },
    "id": "LTbb2TbNHwlL"
   },
   "outputs": [],
   "source": [
    "submission.to_csv(\"dacon_baseline1.13.csv\", index = False)"
   ]
  },
  {
   "cell_type": "code",
   "execution_count": null,
   "metadata": {},
   "outputs": [],
   "source": []
  }
 ],
 "metadata": {
  "accelerator": "GPU",
  "colab": {
   "collapsed_sections": [],
   "name": "Untitled.ipynb",
   "provenance": []
  },
  "kernelspec": {
   "display_name": "Python 3",
   "language": "python",
   "name": "python3"
  },
  "language_info": {
   "codemirror_mode": {
    "name": "ipython",
    "version": 3
   },
   "file_extension": ".py",
   "mimetype": "text/x-python",
   "name": "python",
   "nbconvert_exporter": "python",
   "pygments_lexer": "ipython3",
   "version": "3.8.5"
  }
 },
 "nbformat": 4,
 "nbformat_minor": 1
}
